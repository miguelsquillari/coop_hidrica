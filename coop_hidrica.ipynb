{
 "cells": [
  {
   "cell_type": "code",
   "execution_count": 48,
   "id": "47c12f1f",
   "metadata": {},
   "outputs": [],
   "source": [
    "# Cooperativa Hidrica \n",
    "# Análisis de Consumo de Agua\n",
    "# la problematica actual es que la cisterna que bombea agua a la ciudad suele quedarse sin, debido \n",
    "# al consumo de los habitantes. "
   ]
  },
  {
   "cell_type": "code",
   "execution_count": 49,
   "id": "14fdcbf3",
   "metadata": {},
   "outputs": [],
   "source": [
    "# imports\n",
    "import pandas as pd\n",
    "import numpy as np\n",
    "import seaborn as sbn\n",
    "import datetime\n",
    "import matplotlib as plot\n",
    "import matplotlib.pyplot as plt\n",
    "from IPython.display import display\n",
    "import panel\n",
    "panel.extension('tabulator')\n",
    "import hvplot.pandas"
   ]
  },
  {
   "cell_type": "code",
   "execution_count": 50,
   "id": "711fa38f",
   "metadata": {},
   "outputs": [],
   "source": [
    "# Data import \n",
    "#train_df = pd.read_csv(\"resources/Historico agua potable2021_30032022.csv\", delimiter=\";\")\n",
    "train_consumo = pd.read_csv(\"resources/Historial de Consumos Agua.csv\", delimiter=\",\" , thousands=\".\")\n",
    "# train_test = pd.read_csv(\"resources/Historial_Agua.csv\")"
   ]
  },
  {
   "cell_type": "code",
   "execution_count": 51,
   "id": "bc565e16",
   "metadata": {},
   "outputs": [
    {
     "data": {
      "text/plain": [
       "'\"\\nTenemos dos datasets:\\n1- Referido a la ciudad de XX , en el cual se encuentra la cisterna que produce agua potable.\\n    1.1 Conocer los periodos de mas consumo para la cisterna.\\n    1.2 Buscar correlación entre las variables de consumo, como periodo de tiempo, temperatura, humedad y la cisterna.\\n2- El dataset de consumo de agua, donde se encuentra el historial de consumos de agua de la ciudad.\\n    2.1 Conocer las cuentas que mas consumen\\n    2.2 En que periodos consumen mas agua.\\n'"
      ]
     },
     "execution_count": 51,
     "metadata": {},
     "output_type": "execute_result"
    }
   ],
   "source": [
    "\"\"\"\"\n",
    "Tenemos dos datasets:\n",
    "1- Referido a la ciudad de XX , en el cual se encuentra la cisterna que produce agua potable.\n",
    "    1.1 Conocer los periodos de mas consumo para la cisterna.\n",
    "    1.2 Buscar correlación entre las variables de consumo, como periodo de tiempo, temperatura, humedad y la cisterna.\n",
    "2- El dataset de consumo de agua, donde se encuentra el historial de consumos de agua de la ciudad.\n",
    "    2.1 Conocer las cuentas que mas consumen\n",
    "    2.2 En que periodos consumen mas agua.\n",
    "\"\"\""
   ]
  },
  {
   "cell_type": "code",
   "execution_count": 52,
   "id": "59778ce8",
   "metadata": {},
   "outputs": [
    {
     "name": "stdout",
     "output_type": "stream",
     "text": [
      "Total de lecturas:  176204\n",
      "Cantidad de cuentas  7681\n",
      "Consumo maximo en m3:  1613\n"
     ]
    },
    {
     "data": {
      "text/plain": [
       "'La  Cuenta con mayor consumo'"
      ]
     },
     "metadata": {},
     "output_type": "display_data"
    },
    {
     "data": {
      "text/html": [
       "<div>\n",
       "<style scoped>\n",
       "    .dataframe tbody tr th:only-of-type {\n",
       "        vertical-align: middle;\n",
       "    }\n",
       "\n",
       "    .dataframe tbody tr th {\n",
       "        vertical-align: top;\n",
       "    }\n",
       "\n",
       "    .dataframe thead th {\n",
       "        text-align: right;\n",
       "    }\n",
       "</style>\n",
       "<table border=\"1\" class=\"dataframe\">\n",
       "  <thead>\n",
       "    <tr style=\"text-align: right;\">\n",
       "      <th></th>\n",
       "      <th>Periodo</th>\n",
       "      <th>Fecha</th>\n",
       "      <th>Cuenta</th>\n",
       "      <th>Consumo</th>\n",
       "    </tr>\n",
       "  </thead>\n",
       "  <tbody>\n",
       "    <tr>\n",
       "      <th>120476</th>\n",
       "      <td>jul-21</td>\n",
       "      <td>19/07/2021</td>\n",
       "      <td>46816</td>\n",
       "      <td>1613</td>\n",
       "    </tr>\n",
       "  </tbody>\n",
       "</table>\n",
       "</div>"
      ],
      "text/plain": [
       "       Periodo       Fecha  Cuenta  Consumo\n",
       "120476  jul-21  19/07/2021   46816     1613"
      ]
     },
     "metadata": {},
     "output_type": "display_data"
    },
    {
     "data": {
      "text/plain": [
       "'cuenta con consumo maximo:'"
      ]
     },
     "metadata": {},
     "output_type": "display_data"
    },
    {
     "data": {
      "text/html": [
       "<div>\n",
       "<style scoped>\n",
       "    .dataframe tbody tr th:only-of-type {\n",
       "        vertical-align: middle;\n",
       "    }\n",
       "\n",
       "    .dataframe tbody tr th {\n",
       "        vertical-align: top;\n",
       "    }\n",
       "\n",
       "    .dataframe thead th {\n",
       "        text-align: right;\n",
       "    }\n",
       "</style>\n",
       "<table border=\"1\" class=\"dataframe\">\n",
       "  <thead>\n",
       "    <tr style=\"text-align: right;\">\n",
       "      <th></th>\n",
       "      <th>index</th>\n",
       "      <th>Periodo</th>\n",
       "      <th>Fecha</th>\n",
       "      <th>Cuenta</th>\n",
       "      <th>Consumo</th>\n",
       "    </tr>\n",
       "  </thead>\n",
       "  <tbody>\n",
       "    <tr>\n",
       "      <th>0</th>\n",
       "      <td>120476</td>\n",
       "      <td>jul-21</td>\n",
       "      <td>19/07/2021</td>\n",
       "      <td>46816.0</td>\n",
       "      <td>1613.0</td>\n",
       "    </tr>\n",
       "    <tr>\n",
       "      <th>1</th>\n",
       "      <td>112257</td>\n",
       "      <td>jun-21</td>\n",
       "      <td>17/06/2021</td>\n",
       "      <td>46816.0</td>\n",
       "      <td>1579.0</td>\n",
       "    </tr>\n",
       "    <tr>\n",
       "      <th>2</th>\n",
       "      <td>35836</td>\n",
       "      <td>jun-20</td>\n",
       "      <td>17/06/2020</td>\n",
       "      <td>46816.0</td>\n",
       "      <td>1506.0</td>\n",
       "    </tr>\n",
       "    <tr>\n",
       "      <th>3</th>\n",
       "      <td>125241</td>\n",
       "      <td>ago-21</td>\n",
       "      <td>17/08/2021</td>\n",
       "      <td>46816.0</td>\n",
       "      <td>1473.0</td>\n",
       "    </tr>\n",
       "    <tr>\n",
       "      <th>4</th>\n",
       "      <td>43938</td>\n",
       "      <td>jul-20</td>\n",
       "      <td>20/07/2020</td>\n",
       "      <td>46816.0</td>\n",
       "      <td>1457.0</td>\n",
       "    </tr>\n",
       "  </tbody>\n",
       "</table>\n",
       "</div>"
      ],
      "text/plain": [
       "    index Periodo       Fecha   Cuenta  Consumo\n",
       "0  120476  jul-21  19/07/2021  46816.0   1613.0\n",
       "1  112257  jun-21  17/06/2021  46816.0   1579.0\n",
       "2   35836  jun-20  17/06/2020  46816.0   1506.0\n",
       "3  125241  ago-21  17/08/2021  46816.0   1473.0\n",
       "4   43938  jul-20  20/07/2020  46816.0   1457.0"
      ]
     },
     "metadata": {},
     "output_type": "display_data"
    }
   ],
   "source": [
    "#display(train_consumo.head(5))\n",
    "\n",
    "# Total de cuentas que posee o medidores\n",
    "total_cuentas = train_consumo['Cuenta'].count()\n",
    "\n",
    "print(\"Total de lecturas: \", total_cuentas)\n",
    "\n",
    "# Total de cuentas que posee o medidores unicas, descarta duplicados\n",
    "total_cuentas_unicas = train_consumo['Cuenta'].nunique()\n",
    "print(\"Cantidad de cuentas \" , total_cuentas_unicas)\n",
    "\n",
    "\n",
    "#\n",
    "consumo_max =  train_consumo['Consumo'].max()\n",
    "print(\"Consumo maximo en m3: \", consumo_max)\n",
    "\n",
    "train_consumo.sort_values(\"Consumo\", inplace = True,ascending=False)\n",
    "\n",
    "display(\"La  Cuenta con mayor consumo\")\n",
    "display(train_consumo.head(1))\n",
    "\n",
    "display(\"cuenta con consumo maximo:\",train_consumo.where(train_consumo['Cuenta']== 46816).dropna().head(5).reset_index())\n",
    "\n",
    "# Convierto a String Periodo\n",
    "train_consumo['Periodo'] = train_consumo['Periodo'].astype(\"string\")\n",
    "\n"
   ]
  },
  {
   "cell_type": "code",
   "execution_count": 53,
   "id": "433ead89",
   "metadata": {},
   "outputs": [
    {
     "data": {
      "text/plain": [
       "<AxesSubplot:title={'center':'Cuentas con mayor consumo periodo 2021-2022'}, xlabel='Cuenta'>"
      ]
     },
     "metadata": {},
     "output_type": "display_data"
    },
    {
     "data": {
      "image/png": "[encoded data removed]",
      "text/plain": [
       "<Figure size 432x288 with 1 Axes>"
      ]
     },
     "metadata": {
      "needs_background": "light"
     },
     "output_type": "display_data"
    }
   ],
   "source": [
    "d = train_consumo.groupby(by=['Cuenta']).Consumo.agg(cantidad=('sum')).sort_values(by='cantidad', ascending=False).head(10)\n",
    "#d = train_consumo.groupby(by=['Cuenta']).Consumo.agg(['sum', 'count']).sort_values(by='sum', ascending=False).head(10)\n",
    "plot_consumo = d.plot(kind=\"bar\", title=\"Cuentas con mayor consumo periodo 2021-2022\")\n",
    "fig = plt.gcf()\n",
    "fig.savefig('cuentas_mayor_consumo.png')\n",
    "display(plot_consumo)"
   ]
  },
  {
   "cell_type": "code",
   "execution_count": 54,
   "id": "15bbf7bf",
   "metadata": {},
   "outputs": [
    {
     "data": {
      "text/plain": [
       "Periodo            string\n",
       "Fecha      datetime64[ns]\n",
       "Cuenta              int64\n",
       "Consumo             int64\n",
       "dtype: object"
      ]
     },
     "execution_count": 54,
     "metadata": {},
     "output_type": "execute_result"
    }
   ],
   "source": [
    "train_consumo[\"Fecha\"] = train_consumo[\"Fecha\"].astype(str)\n",
    "#train_consumo[\"Fecha\"] = train_consumo[\"Fecha\"].astype(\"datetime64[ns]\")\n",
    "train_consumo['Fecha'] = pd.to_datetime(train_consumo['Fecha'], format=\"%d/%m/%Y\")\n",
    "#train_consumo[\"Fecha\"] = train_consumo[\"Fecha\"].astype(\"datetime64[ns]\")\n",
    "train_consumo.dtypes\n"
   ]
  },
  {
   "cell_type": "code",
   "execution_count": 76,
   "id": "5ab7510d",
   "metadata": {},
   "outputs": [
    {
     "name": "stderr",
     "output_type": "stream",
     "text": [
      "c:\\Users\\migue\\AppData\\Local\\Programs\\Python\\Python39\\lib\\site-packages\\pandas\\core\\arraylike.py:48: UserWarning: Parsing '31/12/2021' in DD/MM/YYYY format. Provide format or specify infer_datetime_format=True for consistent parsing.\n",
      "  return self._cmp_method(other, operator.lt)\n"
     ]
    },
    {
     "data": {
      "image/png": "[encoded data removed]",
      "text/plain": [
       "<Figure size 864x576 with 1 Axes>"
      ]
     },
     "metadata": {
      "needs_background": "light"
     },
     "output_type": "display_data"
    }
   ],
   "source": [
    "\n",
    "train_consumo.where((train_consumo.Fecha > '01/01/2021') & (train_consumo.Fecha < '31/12/2021'))\\\n",
    "    .groupby(by=['Periodo']).Consumo.agg(cantidad=('sum'))\\\n",
    "        .sort_values(by='cantidad', ascending=False).head(12)\\\n",
    "            .plot(kind=\"bar\", title=\"Periodos con mayor a menor consumo en M3\", color=\"lightblue\",ylabel=\"Cantidad M3\" )\n",
    "\n",
    "fig = plt.gcf()\n",
    "fig.set_size_inches(12,8)\n",
    "fig.savefig(\"periodos_mayor_a_meno.png\")"
   ]
  },
  {
   "cell_type": "code",
   "execution_count": 56,
   "id": "6ad85c8c",
   "metadata": {},
   "outputs": [
    {
     "data": {
      "text/html": [
       "<div>\n",
       "<style scoped>\n",
       "    .dataframe tbody tr th:only-of-type {\n",
       "        vertical-align: middle;\n",
       "    }\n",
       "\n",
       "    .dataframe tbody tr th {\n",
       "        vertical-align: top;\n",
       "    }\n",
       "\n",
       "    .dataframe thead th {\n",
       "        text-align: right;\n",
       "    }\n",
       "</style>\n",
       "<table border=\"1\" class=\"dataframe\">\n",
       "  <thead>\n",
       "    <tr style=\"text-align: right;\">\n",
       "      <th></th>\n",
       "      <th>Periodo</th>\n",
       "      <th>Fecha</th>\n",
       "      <th>Cuenta</th>\n",
       "      <th>Consumo</th>\n",
       "      <th>Periodo2</th>\n",
       "    </tr>\n",
       "  </thead>\n",
       "  <tbody>\n",
       "    <tr>\n",
       "      <th>120476</th>\n",
       "      <td>jul-21</td>\n",
       "      <td>2021-07-19</td>\n",
       "      <td>46816</td>\n",
       "      <td>1613</td>\n",
       "      <td>202107</td>\n",
       "    </tr>\n",
       "    <tr>\n",
       "      <th>112257</th>\n",
       "      <td>jun-21</td>\n",
       "      <td>2021-06-17</td>\n",
       "      <td>46816</td>\n",
       "      <td>1579</td>\n",
       "      <td>202106</td>\n",
       "    </tr>\n",
       "    <tr>\n",
       "      <th>35836</th>\n",
       "      <td>jun-20</td>\n",
       "      <td>2020-06-17</td>\n",
       "      <td>46816</td>\n",
       "      <td>1506</td>\n",
       "      <td>202006</td>\n",
       "    </tr>\n",
       "    <tr>\n",
       "      <th>125241</th>\n",
       "      <td>ago-21</td>\n",
       "      <td>2021-08-17</td>\n",
       "      <td>46816</td>\n",
       "      <td>1473</td>\n",
       "      <td>202108</td>\n",
       "    </tr>\n",
       "    <tr>\n",
       "      <th>43938</th>\n",
       "      <td>jul-20</td>\n",
       "      <td>2020-07-20</td>\n",
       "      <td>46816</td>\n",
       "      <td>1457</td>\n",
       "      <td>202007</td>\n",
       "    </tr>\n",
       "  </tbody>\n",
       "</table>\n",
       "</div>"
      ],
      "text/plain": [
       "       Periodo      Fecha  Cuenta  Consumo Periodo2\n",
       "120476  jul-21 2021-07-19   46816     1613   202107\n",
       "112257  jun-21 2021-06-17   46816     1579   202106\n",
       "35836   jun-20 2020-06-17   46816     1506   202006\n",
       "125241  ago-21 2021-08-17   46816     1473   202108\n",
       "43938   jul-20 2020-07-20   46816     1457   202007"
      ]
     },
     "metadata": {},
     "output_type": "display_data"
    }
   ],
   "source": [
    "# creo la columna periodo2 con mes y año\n",
    "train_consumo['Periodo2'] = train_consumo['Fecha']\n",
    "train_consumo['Periodo2'] = train_consumo['Periodo2'].astype(\"string\")\n",
    "train_consumo['Periodo2'] = train_consumo['Periodo2'].replace(to_replace=(\"-\"), value=\"\", regex=True)\n",
    "train_consumo['Periodo2'] = train_consumo['Periodo2'].str.slice(start=0, stop=6)\n",
    "display(train_consumo.head(5))"
   ]
  },
  {
   "cell_type": "code",
   "execution_count": 57,
   "id": "29a4995b",
   "metadata": {},
   "outputs": [
    {
     "data": {
      "text/plain": [
       "Periodo             string\n",
       "Fecha       datetime64[ns]\n",
       "Cuenta               int64\n",
       "Consumo              int64\n",
       "Periodo2            string\n",
       "dtype: object"
      ]
     },
     "execution_count": 57,
     "metadata": {},
     "output_type": "execute_result"
    }
   ],
   "source": [
    "train_consumo.dtypes"
   ]
  },
  {
   "cell_type": "code",
   "execution_count": 58,
   "id": "43fba608",
   "metadata": {},
   "outputs": [
    {
     "name": "stdout",
     "output_type": "stream",
     "text": [
      "---- 705.878.00\n",
      "###Consumo Anual 2021: 705878.0 m3\n"
     ]
    },
    {
     "name": "stderr",
     "output_type": "stream",
     "text": [
      "c:\\Users\\migue\\AppData\\Local\\Programs\\Python\\Python39\\lib\\site-packages\\pandas\\core\\arraylike.py:48: UserWarning: Parsing '31/12/2021' in DD/MM/YYYY format. Provide format or specify infer_datetime_format=True for consistent parsing.\n",
      "  return self._cmp_method(other, operator.lt)\n"
     ]
    }
   ],
   "source": [
    "import re\n",
    "\n",
    "\n",
    "tc = train_consumo.where((train_consumo.Fecha > '01/01/2021') & (train_consumo.Fecha < '31/12/2021'))['Consumo'].sum()\n",
    "r = re.sub(\"(\\d)(?=(\\d{3})+(?!\\d))\", r\"\\1.\", \"%.2f\" % tc)\n",
    "\n",
    "consumo_anual = \"###Consumo Anual 2021: \" + tc.astype(str) + \" m3\"\n",
    "print(\"----\", r)\n",
    "print(consumo_anual)\n"
   ]
  },
  {
   "cell_type": "code",
   "execution_count": 59,
   "id": "64f8b47c",
   "metadata": {},
   "outputs": [
    {
     "name": "stderr",
     "output_type": "stream",
     "text": [
      "c:\\Users\\migue\\AppData\\Local\\Programs\\Python\\Python39\\lib\\site-packages\\pandas\\core\\arraylike.py:48: UserWarning: Parsing '31/12/2021' in DD/MM/YYYY format. Provide format or specify infer_datetime_format=True for consistent parsing.\n",
      "  return self._cmp_method(other, operator.lt)\n"
     ]
    },
    {
     "data": {
      "text/html": [
       "<div>\n",
       "<style scoped>\n",
       "    .dataframe tbody tr th:only-of-type {\n",
       "        vertical-align: middle;\n",
       "    }\n",
       "\n",
       "    .dataframe tbody tr th {\n",
       "        vertical-align: top;\n",
       "    }\n",
       "\n",
       "    .dataframe thead th {\n",
       "        text-align: right;\n",
       "    }\n",
       "</style>\n",
       "<table border=\"1\" class=\"dataframe\">\n",
       "  <thead>\n",
       "    <tr style=\"text-align: right;\">\n",
       "      <th></th>\n",
       "      <th>Periodo2</th>\n",
       "      <th>cantidad</th>\n",
       "    </tr>\n",
       "  </thead>\n",
       "  <tbody>\n",
       "    <tr>\n",
       "      <th>0</th>\n",
       "      <td>202101</td>\n",
       "      <td>67178.0</td>\n",
       "    </tr>\n",
       "    <tr>\n",
       "      <th>1</th>\n",
       "      <td>202102</td>\n",
       "      <td>59656.0</td>\n",
       "    </tr>\n",
       "    <tr>\n",
       "      <th>2</th>\n",
       "      <td>202103</td>\n",
       "      <td>54709.0</td>\n",
       "    </tr>\n",
       "    <tr>\n",
       "      <th>3</th>\n",
       "      <td>202104</td>\n",
       "      <td>58471.0</td>\n",
       "    </tr>\n",
       "    <tr>\n",
       "      <th>4</th>\n",
       "      <td>202105</td>\n",
       "      <td>51587.0</td>\n",
       "    </tr>\n",
       "    <tr>\n",
       "      <th>5</th>\n",
       "      <td>202106</td>\n",
       "      <td>54683.0</td>\n",
       "    </tr>\n",
       "    <tr>\n",
       "      <th>6</th>\n",
       "      <td>202107</td>\n",
       "      <td>55700.0</td>\n",
       "    </tr>\n",
       "    <tr>\n",
       "      <th>7</th>\n",
       "      <td>202108</td>\n",
       "      <td>56648.0</td>\n",
       "    </tr>\n",
       "    <tr>\n",
       "      <th>8</th>\n",
       "      <td>202109</td>\n",
       "      <td>60959.0</td>\n",
       "    </tr>\n",
       "    <tr>\n",
       "      <th>9</th>\n",
       "      <td>202110</td>\n",
       "      <td>61560.0</td>\n",
       "    </tr>\n",
       "    <tr>\n",
       "      <th>10</th>\n",
       "      <td>202111</td>\n",
       "      <td>60816.0</td>\n",
       "    </tr>\n",
       "    <tr>\n",
       "      <th>11</th>\n",
       "      <td>202112</td>\n",
       "      <td>63911.0</td>\n",
       "    </tr>\n",
       "  </tbody>\n",
       "</table>\n",
       "</div>"
      ],
      "text/plain": [
       "   Periodo2  cantidad\n",
       "0    202101   67178.0\n",
       "1    202102   59656.0\n",
       "2    202103   54709.0\n",
       "3    202104   58471.0\n",
       "4    202105   51587.0\n",
       "5    202106   54683.0\n",
       "6    202107   55700.0\n",
       "7    202108   56648.0\n",
       "8    202109   60959.0\n",
       "9    202110   61560.0\n",
       "10   202111   60816.0\n",
       "11   202112   63911.0"
      ]
     },
     "metadata": {},
     "output_type": "display_data"
    },
    {
     "data": {
      "text/plain": [
       "<AxesSubplot:title={'center':'Periodos con mayor consumo'}, xlabel='Periodo 2021', ylabel='Cantidad M3'>"
      ]
     },
     "execution_count": 59,
     "metadata": {},
     "output_type": "execute_result"
    },
    {
     "data": {
      "image/png": "[encoded data removed]",
      "text/plain": [
       "<Figure size 432x288 with 1 Axes>"
      ]
     },
     "metadata": {
      "needs_background": "light"
     },
     "output_type": "display_data"
    }
   ],
   "source": [
    "# Analizamos el 2021 ya que tenemos el año completo.\n",
    "\n",
    "train_consumo.sort_values(\"Periodo2\")\n",
    "tc = train_consumo.where((train_consumo.Fecha > '01/01/2021') & (train_consumo.Fecha < '31/12/2021'))\\\n",
    "    .groupby(by=['Periodo2'])\\\n",
    "    .Consumo.agg( cantidad=('sum'))\\\n",
    "        .head(12).reset_index()\n",
    "        #\\ .plot(kind=\"bar\", title=\"Periodos con mayor consumo\", color=\"lightblue\", xlabel='Periodo 2021', ylabel=\"Cantidad M3\")\n",
    "display(tc.head(12))\n",
    "tc.head(12).plot(kind=\"bar\", title=\"Periodos con mayor consumo\", color=\"lightblue\", xlabel='Periodo 2021', ylabel=\"Cantidad M3\" , x=\"Periodo2\", y=\"cantidad\")"
   ]
  },
  {
   "cell_type": "code",
   "execution_count": 60,
   "id": "cb8f76e4",
   "metadata": {},
   "outputs": [
    {
     "name": "stderr",
     "output_type": "stream",
     "text": [
      "c:\\Users\\migue\\AppData\\Local\\Programs\\Python\\Python39\\lib\\site-packages\\pandas\\core\\arraylike.py:48: UserWarning: Parsing '31/12/2021' in DD/MM/YYYY format. Provide format or specify infer_datetime_format=True for consistent parsing.\n",
      "  return self._cmp_method(other, operator.lt)\n"
     ]
    },
    {
     "data": {
      "text/html": [
       "<div>\n",
       "<style scoped>\n",
       "    .dataframe tbody tr th:only-of-type {\n",
       "        vertical-align: middle;\n",
       "    }\n",
       "\n",
       "    .dataframe tbody tr th {\n",
       "        vertical-align: top;\n",
       "    }\n",
       "\n",
       "    .dataframe thead th {\n",
       "        text-align: right;\n",
       "    }\n",
       "</style>\n",
       "<table border=\"1\" class=\"dataframe\">\n",
       "  <thead>\n",
       "    <tr style=\"text-align: right;\">\n",
       "      <th></th>\n",
       "      <th>cantidad</th>\n",
       "      <th>media</th>\n",
       "      <th>promedio</th>\n",
       "    </tr>\n",
       "    <tr>\n",
       "      <th>Periodo2</th>\n",
       "      <th></th>\n",
       "      <th></th>\n",
       "      <th></th>\n",
       "    </tr>\n",
       "  </thead>\n",
       "  <tbody>\n",
       "    <tr>\n",
       "      <th>202101</th>\n",
       "      <td>67178.0</td>\n",
       "      <td>8.0</td>\n",
       "      <td>10.304955</td>\n",
       "    </tr>\n",
       "    <tr>\n",
       "      <th>202102</th>\n",
       "      <td>59656.0</td>\n",
       "      <td>7.0</td>\n",
       "      <td>9.124503</td>\n",
       "    </tr>\n",
       "    <tr>\n",
       "      <th>202103</th>\n",
       "      <td>54709.0</td>\n",
       "      <td>7.0</td>\n",
       "      <td>8.356346</td>\n",
       "    </tr>\n",
       "    <tr>\n",
       "      <th>202104</th>\n",
       "      <td>58471.0</td>\n",
       "      <td>7.0</td>\n",
       "      <td>8.930961</td>\n",
       "    </tr>\n",
       "    <tr>\n",
       "      <th>202105</th>\n",
       "      <td>51587.0</td>\n",
       "      <td>6.0</td>\n",
       "      <td>7.886715</td>\n",
       "    </tr>\n",
       "    <tr>\n",
       "      <th>202106</th>\n",
       "      <td>54683.0</td>\n",
       "      <td>6.0</td>\n",
       "      <td>8.343454</td>\n",
       "    </tr>\n",
       "    <tr>\n",
       "      <th>202107</th>\n",
       "      <td>55700.0</td>\n",
       "      <td>7.0</td>\n",
       "      <td>8.501221</td>\n",
       "    </tr>\n",
       "    <tr>\n",
       "      <th>202108</th>\n",
       "      <td>56648.0</td>\n",
       "      <td>7.0</td>\n",
       "      <td>8.609119</td>\n",
       "    </tr>\n",
       "    <tr>\n",
       "      <th>202109</th>\n",
       "      <td>60959.0</td>\n",
       "      <td>7.0</td>\n",
       "      <td>9.226427</td>\n",
       "    </tr>\n",
       "    <tr>\n",
       "      <th>202110</th>\n",
       "      <td>61560.0</td>\n",
       "      <td>7.0</td>\n",
       "      <td>9.321623</td>\n",
       "    </tr>\n",
       "    <tr>\n",
       "      <th>202111</th>\n",
       "      <td>60816.0</td>\n",
       "      <td>7.0</td>\n",
       "      <td>9.178388</td>\n",
       "    </tr>\n",
       "    <tr>\n",
       "      <th>202112</th>\n",
       "      <td>63911.0</td>\n",
       "      <td>8.0</td>\n",
       "      <td>9.644032</td>\n",
       "    </tr>\n",
       "  </tbody>\n",
       "</table>\n",
       "</div>"
      ],
      "text/plain": [
       "          cantidad  media   promedio\n",
       "Periodo2                            \n",
       "202101     67178.0    8.0  10.304955\n",
       "202102     59656.0    7.0   9.124503\n",
       "202103     54709.0    7.0   8.356346\n",
       "202104     58471.0    7.0   8.930961\n",
       "202105     51587.0    6.0   7.886715\n",
       "202106     54683.0    6.0   8.343454\n",
       "202107     55700.0    7.0   8.501221\n",
       "202108     56648.0    7.0   8.609119\n",
       "202109     60959.0    7.0   9.226427\n",
       "202110     61560.0    7.0   9.321623\n",
       "202111     60816.0    7.0   9.178388\n",
       "202112     63911.0    8.0   9.644032"
      ]
     },
     "metadata": {},
     "output_type": "display_data"
    },
    {
     "name": "stderr",
     "output_type": "stream",
     "text": [
      "c:\\Users\\migue\\AppData\\Local\\Programs\\Python\\Python39\\lib\\site-packages\\pandas\\core\\arraylike.py:48: UserWarning: Parsing '31/12/2021' in DD/MM/YYYY format. Provide format or specify infer_datetime_format=True for consistent parsing.\n",
      "  return self._cmp_method(other, operator.lt)\n"
     ]
    },
    {
     "data": {
      "text/plain": [
       "<AxesSubplot:title={'center':'Periodos con mayor consumo'}, xlabel='Periodo 2021'>"
      ]
     },
     "execution_count": 60,
     "metadata": {},
     "output_type": "execute_result"
    },
    {
     "data": {
      "image/png": "[encoded data removed]",
      "text/plain": [
       "<Figure size 432x288 with 1 Axes>"
      ]
     },
     "metadata": {
      "needs_background": "light"
     },
     "output_type": "display_data"
    }
   ],
   "source": [
    "train_consumo.sort_values(\"Fecha\")\n",
    "display(train_consumo.where((train_consumo.Fecha > '01/01/2021') & (train_consumo.Fecha < '31/12/2021')).groupby(by=['Periodo2'])\\\n",
    "    .Consumo.agg( cantidad=('sum'), media=('median'), promedio=('mean'))\\\n",
    "        .head(12))\n",
    "\n",
    "train_consumo.sort_values(\"Fecha\")\n",
    "train_consumo.where((train_consumo.Fecha > '01/01/2021') & (train_consumo.Fecha < '31/12/2021')).groupby(by=['Periodo2'])\\\n",
    "    .Consumo.agg( cantidad=('sum'), media=('median'), promedio=('mean'))\\\n",
    "        .head(12)\\\n",
    "            .plot(kind=\"bar\", title=\"Periodos con mayor consumo\",  xlabel='Periodo 2021')"
   ]
  },
  {
   "cell_type": "code",
   "execution_count": 61,
   "id": "89393a50",
   "metadata": {},
   "outputs": [
    {
     "data": {
      "text/html": [
       "<div>\n",
       "<style scoped>\n",
       "    .dataframe tbody tr th:only-of-type {\n",
       "        vertical-align: middle;\n",
       "    }\n",
       "\n",
       "    .dataframe tbody tr th {\n",
       "        vertical-align: top;\n",
       "    }\n",
       "\n",
       "    .dataframe thead th {\n",
       "        text-align: right;\n",
       "    }\n",
       "</style>\n",
       "<table border=\"1\" class=\"dataframe\">\n",
       "  <thead>\n",
       "    <tr style=\"text-align: right;\">\n",
       "      <th></th>\n",
       "      <th>Consumo</th>\n",
       "      <th>periodo_mes</th>\n",
       "      <th>Cuenta</th>\n",
       "    </tr>\n",
       "  </thead>\n",
       "  <tbody>\n",
       "    <tr>\n",
       "      <th>Consumo</th>\n",
       "      <td>1.000000</td>\n",
       "      <td>0.001010</td>\n",
       "      <td>-0.005077</td>\n",
       "    </tr>\n",
       "    <tr>\n",
       "      <th>periodo_mes</th>\n",
       "      <td>0.001010</td>\n",
       "      <td>1.000000</td>\n",
       "      <td>0.010675</td>\n",
       "    </tr>\n",
       "    <tr>\n",
       "      <th>Cuenta</th>\n",
       "      <td>-0.005077</td>\n",
       "      <td>0.010675</td>\n",
       "      <td>1.000000</td>\n",
       "    </tr>\n",
       "  </tbody>\n",
       "</table>\n",
       "</div>"
      ],
      "text/plain": [
       "              Consumo  periodo_mes    Cuenta\n",
       "Consumo      1.000000     0.001010 -0.005077\n",
       "periodo_mes  0.001010     1.000000  0.010675\n",
       "Cuenta      -0.005077     0.010675  1.000000"
      ]
     },
     "execution_count": 61,
     "metadata": {},
     "output_type": "execute_result"
    }
   ],
   "source": [
    "# Para analizar por separado los meses.\n",
    "train_consumo['periodo_mes'] = train_consumo['Fecha'].dt.month\n",
    "train_consumo.head(10)\n",
    "train_consumo[['Consumo','periodo_mes','Cuenta']].corr(\"pearson\")"
   ]
  },
  {
   "cell_type": "code",
   "execution_count": 62,
   "id": "5afb9816",
   "metadata": {},
   "outputs": [
    {
     "data": {
      "text/html": [
       "<div>\n",
       "<style scoped>\n",
       "    .dataframe tbody tr th:only-of-type {\n",
       "        vertical-align: middle;\n",
       "    }\n",
       "\n",
       "    .dataframe tbody tr th {\n",
       "        vertical-align: top;\n",
       "    }\n",
       "\n",
       "    .dataframe thead th {\n",
       "        text-align: right;\n",
       "    }\n",
       "</style>\n",
       "<table border=\"1\" class=\"dataframe\">\n",
       "  <thead>\n",
       "    <tr style=\"text-align: right;\">\n",
       "      <th></th>\n",
       "      <th>Periodo</th>\n",
       "      <th>Fecha</th>\n",
       "      <th>Cuenta</th>\n",
       "      <th>Consumo</th>\n",
       "      <th>Periodo2</th>\n",
       "      <th>periodo_mes</th>\n",
       "      <th>ConsumoGroup</th>\n",
       "      <th>ConsumoCategoria</th>\n",
       "    </tr>\n",
       "  </thead>\n",
       "  <tbody>\n",
       "    <tr>\n",
       "      <th>120476</th>\n",
       "      <td>jul-21</td>\n",
       "      <td>2021-07-19</td>\n",
       "      <td>46816</td>\n",
       "      <td>1613</td>\n",
       "      <td>202107</td>\n",
       "      <td>7</td>\n",
       "      <td>industria</td>\n",
       "      <td>3</td>\n",
       "    </tr>\n",
       "    <tr>\n",
       "      <th>112257</th>\n",
       "      <td>jun-21</td>\n",
       "      <td>2021-06-17</td>\n",
       "      <td>46816</td>\n",
       "      <td>1579</td>\n",
       "      <td>202106</td>\n",
       "      <td>6</td>\n",
       "      <td>industria</td>\n",
       "      <td>3</td>\n",
       "    </tr>\n",
       "    <tr>\n",
       "      <th>35836</th>\n",
       "      <td>jun-20</td>\n",
       "      <td>2020-06-17</td>\n",
       "      <td>46816</td>\n",
       "      <td>1506</td>\n",
       "      <td>202006</td>\n",
       "      <td>6</td>\n",
       "      <td>industria</td>\n",
       "      <td>3</td>\n",
       "    </tr>\n",
       "    <tr>\n",
       "      <th>125241</th>\n",
       "      <td>ago-21</td>\n",
       "      <td>2021-08-17</td>\n",
       "      <td>46816</td>\n",
       "      <td>1473</td>\n",
       "      <td>202108</td>\n",
       "      <td>8</td>\n",
       "      <td>industria</td>\n",
       "      <td>3</td>\n",
       "    </tr>\n",
       "    <tr>\n",
       "      <th>43938</th>\n",
       "      <td>jul-20</td>\n",
       "      <td>2020-07-20</td>\n",
       "      <td>46816</td>\n",
       "      <td>1457</td>\n",
       "      <td>202007</td>\n",
       "      <td>7</td>\n",
       "      <td>industria</td>\n",
       "      <td>3</td>\n",
       "    </tr>\n",
       "    <tr>\n",
       "      <th>55270</th>\n",
       "      <td>sep-20</td>\n",
       "      <td>2020-09-18</td>\n",
       "      <td>46816</td>\n",
       "      <td>1447</td>\n",
       "      <td>202009</td>\n",
       "      <td>9</td>\n",
       "      <td>industria</td>\n",
       "      <td>3</td>\n",
       "    </tr>\n",
       "    <tr>\n",
       "      <th>87884</th>\n",
       "      <td>feb-21</td>\n",
       "      <td>2021-02-18</td>\n",
       "      <td>46816</td>\n",
       "      <td>1437</td>\n",
       "      <td>202102</td>\n",
       "      <td>2</td>\n",
       "      <td>industria</td>\n",
       "      <td>3</td>\n",
       "    </tr>\n",
       "    <tr>\n",
       "      <th>63153</th>\n",
       "      <td>oct-20</td>\n",
       "      <td>2020-10-20</td>\n",
       "      <td>46816</td>\n",
       "      <td>1433</td>\n",
       "      <td>202010</td>\n",
       "      <td>10</td>\n",
       "      <td>industria</td>\n",
       "      <td>3</td>\n",
       "    </tr>\n",
       "    <tr>\n",
       "      <th>30788</th>\n",
       "      <td>may-20</td>\n",
       "      <td>2020-05-20</td>\n",
       "      <td>46816</td>\n",
       "      <td>1424</td>\n",
       "      <td>202005</td>\n",
       "      <td>5</td>\n",
       "      <td>industria</td>\n",
       "      <td>3</td>\n",
       "    </tr>\n",
       "    <tr>\n",
       "      <th>101452</th>\n",
       "      <td>abr-21</td>\n",
       "      <td>2021-04-20</td>\n",
       "      <td>46816</td>\n",
       "      <td>1390</td>\n",
       "      <td>202104</td>\n",
       "      <td>4</td>\n",
       "      <td>industria</td>\n",
       "      <td>3</td>\n",
       "    </tr>\n",
       "  </tbody>\n",
       "</table>\n",
       "</div>"
      ],
      "text/plain": [
       "       Periodo      Fecha  Cuenta  Consumo Periodo2  periodo_mes ConsumoGroup  \\\n",
       "120476  jul-21 2021-07-19   46816     1613   202107            7    industria   \n",
       "112257  jun-21 2021-06-17   46816     1579   202106            6    industria   \n",
       "35836   jun-20 2020-06-17   46816     1506   202006            6    industria   \n",
       "125241  ago-21 2021-08-17   46816     1473   202108            8    industria   \n",
       "43938   jul-20 2020-07-20   46816     1457   202007            7    industria   \n",
       "55270   sep-20 2020-09-18   46816     1447   202009            9    industria   \n",
       "87884   feb-21 2021-02-18   46816     1437   202102            2    industria   \n",
       "63153   oct-20 2020-10-20   46816     1433   202010           10    industria   \n",
       "30788   may-20 2020-05-20   46816     1424   202005            5    industria   \n",
       "101452  abr-21 2021-04-20   46816     1390   202104            4    industria   \n",
       "\n",
       "       ConsumoCategoria  \n",
       "120476                3  \n",
       "112257                3  \n",
       "35836                 3  \n",
       "125241                3  \n",
       "43938                 3  \n",
       "55270                 3  \n",
       "87884                 3  \n",
       "63153                 3  \n",
       "30788                 3  \n",
       "101452                3  "
      ]
     },
     "execution_count": 62,
     "metadata": {},
     "output_type": "execute_result"
    }
   ],
   "source": [
    "# vamos a categorizar los clientes de acuerdo a su consumo.\n",
    "# observamos la tanto la media como el promedio mensual es entre 8 y 10 vamos poner como categoria principal a Clientes con consumo bajo los que\n",
    "# van desde 11 a 100 consumo medio y los que consumen 101 en adelante los considaremos como industria.\n",
    "d = train_consumo.where(train_consumo.Consumo > 100 ).dropna()\n",
    "dd = d['Cuenta']\n",
    "dd.size\n",
    "\n",
    "## creando ConsumoGroup\n",
    "bins= [0,10,100,2000 ]\n",
    "labels = ['residencial','comercio','industria']\n",
    "train_consumo['ConsumoGroup'] = pd.cut(train_consumo['Consumo'], bins=bins, labels=labels, right=False)\n",
    "\n",
    "labels = ['1','2','3']\n",
    "train_consumo['ConsumoCategoria'] = pd.cut(train_consumo['Consumo'], bins=bins, labels=labels, right=False)\n",
    "train_consumo.head(10)\n"
   ]
  },
  {
   "cell_type": "code",
   "execution_count": 63,
   "id": "e05df397",
   "metadata": {},
   "outputs": [
    {
     "name": "stderr",
     "output_type": "stream",
     "text": [
      "c:\\Users\\migue\\AppData\\Local\\Programs\\Python\\Python39\\lib\\site-packages\\pandas\\core\\arraylike.py:48: UserWarning: Parsing '31/12/2021' in DD/MM/YYYY format. Provide format or specify infer_datetime_format=True for consistent parsing.\n",
      "  return self._cmp_method(other, operator.lt)\n"
     ]
    },
    {
     "data": {
      "image/png": "[encoded data removed]",
      "text/plain": [
       "<Figure size 864x576 with 1 Axes>"
      ]
     },
     "metadata": {
      "needs_background": "light"
     },
     "output_type": "display_data"
    }
   ],
   "source": [
    "train_consumo.where((train_consumo.Fecha > '01/01/2021') & (train_consumo.Fecha < '31/12/2021'))\\\n",
    ".groupby(by=['ConsumoGroup']).Consumo.agg(Cantidad=('sum'))\\\n",
    "    .sort_values(by='Cantidad', ascending=False)\\\n",
    "        .plot(kind=\"bar\", title=\"Consumo por grupo\", color=\"green\")\n",
    "fig = plt.gcf()\n",
    "fig.set_size_inches(12,8)\n",
    "fig.savefig('consumos.png')"
   ]
  },
  {
   "cell_type": "code",
   "execution_count": 64,
   "id": "e7e988d8",
   "metadata": {},
   "outputs": [
    {
     "name": "stderr",
     "output_type": "stream",
     "text": [
      "c:\\Users\\migue\\AppData\\Local\\Programs\\Python\\Python39\\lib\\site-packages\\pandas\\core\\arraylike.py:48: UserWarning: Parsing '31/12/2021' in DD/MM/YYYY format. Provide format or specify infer_datetime_format=True for consistent parsing.\n",
      "  return self._cmp_method(other, operator.lt)\n"
     ]
    },
    {
     "data": {
      "text/plain": [
       "'consumo por categoria'"
      ]
     },
     "metadata": {},
     "output_type": "display_data"
    },
    {
     "data": {
      "text/html": [
       "<div>\n",
       "<style scoped>\n",
       "    .dataframe tbody tr th:only-of-type {\n",
       "        vertical-align: middle;\n",
       "    }\n",
       "\n",
       "    .dataframe tbody tr th {\n",
       "        vertical-align: top;\n",
       "    }\n",
       "\n",
       "    .dataframe thead th {\n",
       "        text-align: right;\n",
       "    }\n",
       "</style>\n",
       "<table border=\"1\" class=\"dataframe\">\n",
       "  <thead>\n",
       "    <tr style=\"text-align: right;\">\n",
       "      <th></th>\n",
       "      <th>Cantidad</th>\n",
       "    </tr>\n",
       "    <tr>\n",
       "      <th>ConsumoGroup</th>\n",
       "      <th></th>\n",
       "    </tr>\n",
       "  </thead>\n",
       "  <tbody>\n",
       "    <tr>\n",
       "      <th>comercio</th>\n",
       "      <td>429127.0</td>\n",
       "    </tr>\n",
       "    <tr>\n",
       "      <th>residencial</th>\n",
       "      <td>236518.0</td>\n",
       "    </tr>\n",
       "    <tr>\n",
       "      <th>industria</th>\n",
       "      <td>40233.0</td>\n",
       "    </tr>\n",
       "  </tbody>\n",
       "</table>\n",
       "</div>"
      ],
      "text/plain": [
       "              Cantidad\n",
       "ConsumoGroup          \n",
       "comercio      429127.0\n",
       "residencial   236518.0\n",
       "industria      40233.0"
      ]
     },
     "metadata": {},
     "output_type": "display_data"
    },
    {
     "data": {
      "text/plain": [
       "'ConsumoGroup::'"
      ]
     },
     "metadata": {},
     "output_type": "display_data"
    },
    {
     "data": {
      "text/plain": [
       "\"\\ncomercio = vals.Cantidad[0]\\nresidencial =  vals.Cantidad[1]\\nIndustria =  vals.Cantidad[2]\\n\\nwidth = 0.55       \\npip install virtualenv\\nfig, ax = plt.subplots()\\n\\nax.bar(labels, vals.Cantidad, width, label='Consumos')\\n\\nax.set_ylabel('Cantidad de m3 de consumo')\\nax.set_title('Consumo por Categoria')\\nax.legend()\\n\\nplt.show()\""
      ]
     },
     "execution_count": 64,
     "metadata": {},
     "output_type": "execute_result"
    }
   ],
   "source": [
    "# Representación grafica de consumo, de acuerdo cada categoria.\n",
    "\n",
    "\n",
    "vals = train_consumo.where((train_consumo.Fecha > '01/01/2021') & (train_consumo.Fecha < '31/12/2021'))\\\n",
    ".groupby(by=['ConsumoGroup']).Consumo.agg(Cantidad=('sum')).sort_values(by='Cantidad', ascending=False)\n",
    "\n",
    "display(\"consumo por categoria\", vals)\n",
    "\n",
    "display(\"ConsumoGroup::\")\n",
    "\n",
    "\n",
    "\"\"\"\n",
    "comercio = vals.Cantidad[0]\n",
    "residencial =  vals.Cantidad[1]\n",
    "Industria =  vals.Cantidad[2]\n",
    "\n",
    "width = 0.55       \n",
    "pip install virtualenv\n",
    "fig, ax = plt.subplots()\n",
    "\n",
    "ax.bar(labels, vals.Cantidad, width, label='Consumos')\n",
    "\n",
    "ax.set_ylabel('Cantidad de m3 de consumo')\n",
    "ax.set_title('Consumo por Categoria')\n",
    "ax.legend()\n",
    "\n",
    "plt.show()\"\"\""
   ]
  },
  {
   "cell_type": "code",
   "execution_count": 65,
   "id": "f76ffc95",
   "metadata": {},
   "outputs": [
    {
     "name": "stderr",
     "output_type": "stream",
     "text": [
      "c:\\Users\\migue\\AppData\\Local\\Programs\\Python\\Python39\\lib\\site-packages\\pandas\\core\\arraylike.py:48: UserWarning: Parsing '31/12/2021' in DD/MM/YYYY format. Provide format or specify infer_datetime_format=True for consistent parsing.\n",
      "  return self._cmp_method(other, operator.lt)\n"
     ]
    },
    {
     "data": {
      "image/png": "[encoded data removed]",
      "text/plain": [
       "<Figure size 1044x612 with 1 Axes>"
      ]
     },
     "metadata": {
      "needs_background": "light"
     },
     "output_type": "display_data"
    }
   ],
   "source": [
    "consumo_categ = train_consumo.where((train_consumo.Fecha > '01/01/2021') & (train_consumo.Fecha < '31/12/2021'))\\\n",
    ".groupby(by=['ConsumoGroup', 'Periodo2']).Consumo.agg(Cantidad=('sum'))\\\n",
    "    .sort_values(by='Cantidad', ascending=False).unstack('ConsumoGroup')\n",
    "\n",
    "consumo_categ.plot.bar()\n",
    "fig = plt.gcf()\n",
    "fig.set_size_inches(14.5, 8.5)\n",
    "fig.savefig(\"consumo_x_grupo_x_periodo.png\")"
   ]
  },
  {
   "cell_type": "code",
   "execution_count": 66,
   "id": "cf75b58d",
   "metadata": {},
   "outputs": [
    {
     "data": {
      "text/html": [
       "<div>\n",
       "<style scoped>\n",
       "    .dataframe tbody tr th:only-of-type {\n",
       "        vertical-align: middle;\n",
       "    }\n",
       "\n",
       "    .dataframe tbody tr th {\n",
       "        vertical-align: top;\n",
       "    }\n",
       "\n",
       "    .dataframe thead tr th {\n",
       "        text-align: left;\n",
       "    }\n",
       "\n",
       "    .dataframe thead tr:last-of-type th {\n",
       "        text-align: right;\n",
       "    }\n",
       "</style>\n",
       "<table border=\"1\" class=\"dataframe\">\n",
       "  <thead>\n",
       "    <tr>\n",
       "      <th></th>\n",
       "      <th colspan=\"3\" halign=\"left\">Cantidad</th>\n",
       "    </tr>\n",
       "    <tr>\n",
       "      <th>ConsumoGroup</th>\n",
       "      <th>residencial</th>\n",
       "      <th>comercio</th>\n",
       "      <th>industria</th>\n",
       "    </tr>\n",
       "    <tr>\n",
       "      <th>Periodo2</th>\n",
       "      <th></th>\n",
       "      <th></th>\n",
       "      <th></th>\n",
       "    </tr>\n",
       "  </thead>\n",
       "  <tbody>\n",
       "    <tr>\n",
       "      <th>202101</th>\n",
       "      <td>17287.0</td>\n",
       "      <td>47098.0</td>\n",
       "      <td>2793.0</td>\n",
       "    </tr>\n",
       "    <tr>\n",
       "      <th>202102</th>\n",
       "      <td>19653.0</td>\n",
       "      <td>36895.0</td>\n",
       "      <td>3108.0</td>\n",
       "    </tr>\n",
       "    <tr>\n",
       "      <th>202103</th>\n",
       "      <td>20844.0</td>\n",
       "      <td>30810.0</td>\n",
       "      <td>3055.0</td>\n",
       "    </tr>\n",
       "    <tr>\n",
       "      <th>202104</th>\n",
       "      <td>19832.0</td>\n",
       "      <td>34935.0</td>\n",
       "      <td>3704.0</td>\n",
       "    </tr>\n",
       "    <tr>\n",
       "      <th>202105</th>\n",
       "      <td>20620.0</td>\n",
       "      <td>28199.0</td>\n",
       "      <td>2768.0</td>\n",
       "    </tr>\n",
       "    <tr>\n",
       "      <th>202106</th>\n",
       "      <td>20239.0</td>\n",
       "      <td>30863.0</td>\n",
       "      <td>3581.0</td>\n",
       "    </tr>\n",
       "    <tr>\n",
       "      <th>202107</th>\n",
       "      <td>20124.0</td>\n",
       "      <td>31650.0</td>\n",
       "      <td>3926.0</td>\n",
       "    </tr>\n",
       "    <tr>\n",
       "      <th>202108</th>\n",
       "      <td>20133.0</td>\n",
       "      <td>33168.0</td>\n",
       "      <td>3347.0</td>\n",
       "    </tr>\n",
       "    <tr>\n",
       "      <th>202109</th>\n",
       "      <td>19582.0</td>\n",
       "      <td>37333.0</td>\n",
       "      <td>4044.0</td>\n",
       "    </tr>\n",
       "    <tr>\n",
       "      <th>202110</th>\n",
       "      <td>19507.0</td>\n",
       "      <td>38825.0</td>\n",
       "      <td>3228.0</td>\n",
       "    </tr>\n",
       "    <tr>\n",
       "      <th>202111</th>\n",
       "      <td>19561.0</td>\n",
       "      <td>37983.0</td>\n",
       "      <td>3272.0</td>\n",
       "    </tr>\n",
       "    <tr>\n",
       "      <th>202112</th>\n",
       "      <td>19136.0</td>\n",
       "      <td>41368.0</td>\n",
       "      <td>3407.0</td>\n",
       "    </tr>\n",
       "  </tbody>\n",
       "</table>\n",
       "</div>"
      ],
      "text/plain": [
       "                Cantidad                   \n",
       "ConsumoGroup residencial comercio industria\n",
       "Periodo2                                   \n",
       "202101           17287.0  47098.0    2793.0\n",
       "202102           19653.0  36895.0    3108.0\n",
       "202103           20844.0  30810.0    3055.0\n",
       "202104           19832.0  34935.0    3704.0\n",
       "202105           20620.0  28199.0    2768.0\n",
       "202106           20239.0  30863.0    3581.0\n",
       "202107           20124.0  31650.0    3926.0\n",
       "202108           20133.0  33168.0    3347.0\n",
       "202109           19582.0  37333.0    4044.0\n",
       "202110           19507.0  38825.0    3228.0\n",
       "202111           19561.0  37983.0    3272.0\n",
       "202112           19136.0  41368.0    3407.0"
      ]
     },
     "metadata": {},
     "output_type": "display_data"
    }
   ],
   "source": [
    "display(consumo_categ)"
   ]
  },
  {
   "cell_type": "code",
   "execution_count": 67,
   "id": "a352c588",
   "metadata": {},
   "outputs": [],
   "source": [
    "# convirtiendo el data frame interactivo\n",
    "idf = train_consumo.interactive()"
   ]
  },
  {
   "cell_type": "markdown",
   "id": "c1586fc0",
   "metadata": {},
   "source": [
    "Conclusiones sobre el analisis de consumo\n"
   ]
  },
  {
   "cell_type": "code",
   "execution_count": 68,
   "id": "1adef1d4",
   "metadata": {},
   "outputs": [
    {
     "data": {
      "application/vnd.jupyter.widget-view+json": {
       "model_id": "666339df9f3b4dc5b0000d4ab4a0b0c9",
       "version_major": 2,
       "version_minor": 0
      },
      "text/plain": [
       "BokehModel(combine_events=True, render_bundle={'docs_json': {'a28e5ec1-30c9-448c-8840-77dfa9687ef0': {'defs': …"
      ]
     },
     "metadata": {},
     "output_type": "display_data"
    },
    {
     "data": {
      "text/html": [
       "<div style=\"display: none\"></div>"
      ],
      "text/plain": [
       "IntSlider(end=2022, name='Años', start=2021, value=2021)"
      ]
     },
     "execution_count": 68,
     "metadata": {},
     "output_type": "execute_result"
    }
   ],
   "source": [
    "# Define Panel widgets\n",
    "# pip install jupyter_bokeh\n",
    "year_slider = panel.widgets.IntSlider(name='Años', start=2021, end=2022, step=1, value=2021)\n",
    "year_slider"
   ]
  },
  {
   "cell_type": "code",
   "execution_count": 78,
   "id": "8c81d4e9",
   "metadata": {},
   "outputs": [
    {
     "name": "stdout",
     "output_type": "stream",
     "text": [
      "Launching server at http://localhost:61783\n"
     ]
    }
   ],
   "source": [
    "\"\"\"\n",
    "1 consumo anual en m3\n",
    "2 promedio mensual de consumo \n",
    "\n",
    "3 .grafica de consumo anual ordenados desde ene-dic\n",
    "\n",
    "4. grafica de consumo anual ordenados por mes de mayor a menor consumo \n",
    "\n",
    "5. Division en Categoria de consumo segun cant m3 consumidos x mes.\n",
    "5.1 Que categoria consume mas agua  ?\n",
    "\n",
    "6 .En que periodos estas categorias consumen agua.\n",
    "\n",
    "\"\"\"\n",
    "#Layout using Template\n",
    "template = panel.template.FastListTemplate(\n",
    "    title='Dashboard Análisis de Consumo Anual poblacion', \n",
    "    sidebar=[panel.pane.Markdown(\"# Consumo de la población\"), \n",
    "             panel.pane.Markdown(\"#### Analisis del consumo de la poblacion dela ciudad N. \\\n",
    "             El consumo se presenta en cantidad de m3 de acuerdo al consumo de cada cliente, donde se los categorizaron de acuerdo al consumo presentado.\"), \n",
    "             panel.pane.JPG('agua_consumo.jpg', sizing_mode='scale_both'),\n",
    "             panel.pane.Markdown(\"## Settings\"),   \n",
    "             year_slider],\n",
    "\n",
    "          main= [     \n",
    "            # (panel.pane.JPG('agua_consumo.jpg', width=50, height=30),           \n",
    "            panel.Row(panel.pane.JPG('agua_consumo.jpg', width=50, height=30),\n",
    "                  consumo_anual),            \n",
    "            panel.Row(\"####Consumo Anual agrupado por categoria:\"),\n",
    "            panel.Row(\n",
    "                  panel.Column(panel.pane.PNG('consumos.png', width=500, height=500) ),\n",
    "                  panel.Column(vals)),\n",
    "            panel.Row(\"####Consumo Mensual por categoria:\"),      \n",
    "            panel.Row(\n",
    "                  panel.Column(panel.pane.PNG('consumo_x_grupo_x_periodo.png', sizing_mode='scale_both') )),\n",
    "            panel.Row(\"### Consumo anual ordeneado de Mayor a Menor\"),\n",
    "            panel.Row(\n",
    "                  panel.pane.PNG(\"periodos_mayor_a_meno.png\"))\n",
    "          ],\n",
    "    accent_base_color=\"#28d8b3\",\n",
    "    header_background=\"#48d8b3\",\n",
    ")\n",
    "template.show()\n",
    "template.servable();"
   ]
  }
 ],
 "metadata": {
  "interpreter": {
   "hash": "50cad90f2f273938ceabd83189106b19f0fe603f9ecc8bddf15d51c3f9654c30"
  },
  "kernelspec": {
   "display_name": "Python 3.9.6 64-bit",
   "language": "python",
   "name": "python3"
  },
  "language_info": {
   "codemirror_mode": {
    "name": "ipython",
    "version": 3
   },
   "file_extension": ".py",
   "mimetype": "text/x-python",
   "name": "python",
   "nbconvert_exporter": "python",
   "pygments_lexer": "ipython3",
   "version": "3.9.6"
  }
 },
 "nbformat": 4,
 "nbformat_minor": 5
}
