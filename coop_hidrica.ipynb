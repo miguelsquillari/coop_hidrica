{
 "cells": [
  {
   "cell_type": "code",
   "execution_count": 2,
   "id": "47c12f1f",
   "metadata": {},
   "outputs": [],
   "source": [
    "# Cooperativa Morteros \n",
    "# Análisis de Consumo de Agua\n",
    "# Cooperativa Morteros\n",
    "# Diego Vaira\n",
    "# Miguel Squillari\n",
    "\n",
    "# cooperativa Morteros provee de agua a toda la ciudad, donde ingresa desde el canal de Villa Maria.\n",
    "# la problematica actual es que la cisterna que bombea agua a la ciudad suele quedarse sin, debido \n",
    "# al consumo de los habitantes. "
   ]
  },
  {
   "cell_type": "code",
   "execution_count": 10,
   "id": "14fdcbf3",
   "metadata": {},
   "outputs": [],
   "source": [
    "# imports\n",
    "import pandas as pd\n",
    "import numpy as np\n",
    "import seaborn as sbn\n",
    "import datetime\n",
    "import matplotlib as plot\n",
    "import matplotlib.pyplot as plt\n",
    "from IPython.display import display\n",
    "import panel\n",
    "panel.extension('tabulator')\n",
    "import hvplot.pandas"
   ]
  },
  {
   "cell_type": "code",
   "execution_count": 11,
   "id": "711fa38f",
   "metadata": {},
   "outputs": [],
   "source": [
    "# Data import \n",
    "\n",
    "train_df = pd.read_csv(\"resources/Historico agua potable2021_30032022.csv\", delimiter=\";\")\n",
    "train_consumo = pd.read_csv(\"resources/Historial de Consumos Agua.csv\", delimiter=\",\" , thousands=\".\")\n",
    "# train_test = pd.read_csv(\"resources/Historial_Agua.csv\")"
   ]
  },
  {
   "cell_type": "code",
   "execution_count": 5,
   "id": "bc565e16",
   "metadata": {},
   "outputs": [
    {
     "data": {
      "text/plain": [
       "'\"\\nTenemos dos datasets:\\n1- Referido a la ciudad de Morteros, en el cual se encuentra la cisterna que produce agua potable.\\n    1.1 Conocer los periodos de mas consumo para la cisterna.\\n    1.2 Buscar correlación entre las variables de consumo, como periodo de tiempo, temperatura, humedad y la cisterna.\\n2- El dataset de consumo de agua, donde se encuentra el historial de consumos de agua de la ciudad.\\n    2.1 Conocer las cuentas que mas consumen\\n    2.2 En que periodos consumen mas agua.\\n'"
      ]
     },
     "execution_count": 5,
     "metadata": {},
     "output_type": "execute_result"
    }
   ],
   "source": [
    "\"\"\"\"\n",
    "Tenemos dos datasets:\n",
    "1- Referido a la ciudad de Morteros, en el cual se encuentra la cisterna que produce agua potable.\n",
    "    1.1 Conocer los periodos de mas consumo para la cisterna.\n",
    "    1.2 Buscar correlación entre las variables de consumo, como periodo de tiempo, temperatura, humedad y la cisterna.\n",
    "2- El dataset de consumo de agua, donde se encuentra el historial de consumos de agua de la ciudad.\n",
    "    2.1 Conocer las cuentas que mas consumen\n",
    "    2.2 En que periodos consumen mas agua.\n",
    "\"\"\""
   ]
  },
  {
   "cell_type": "code",
   "execution_count": 6,
   "id": "59778ce8",
   "metadata": {},
   "outputs": [
    {
     "data": {
      "text/html": [
       "<div>\n",
       "<style scoped>\n",
       "    .dataframe tbody tr th:only-of-type {\n",
       "        vertical-align: middle;\n",
       "    }\n",
       "\n",
       "    .dataframe tbody tr th {\n",
       "        vertical-align: top;\n",
       "    }\n",
       "\n",
       "    .dataframe thead th {\n",
       "        text-align: right;\n",
       "    }\n",
       "</style>\n",
       "<table border=\"1\" class=\"dataframe\">\n",
       "  <thead>\n",
       "    <tr style=\"text-align: right;\">\n",
       "      <th></th>\n",
       "      <th>Periodo</th>\n",
       "      <th>Fecha</th>\n",
       "      <th>Cuenta</th>\n",
       "      <th>Consumo</th>\n",
       "    </tr>\n",
       "  </thead>\n",
       "  <tbody>\n",
       "    <tr>\n",
       "      <th>0</th>\n",
       "      <td>ene-20</td>\n",
       "      <td>03/01/2020</td>\n",
       "      <td>38195</td>\n",
       "      <td>1</td>\n",
       "    </tr>\n",
       "    <tr>\n",
       "      <th>1</th>\n",
       "      <td>ene-20</td>\n",
       "      <td>03/01/2020</td>\n",
       "      <td>45324</td>\n",
       "      <td>2</td>\n",
       "    </tr>\n",
       "    <tr>\n",
       "      <th>2</th>\n",
       "      <td>ene-20</td>\n",
       "      <td>03/01/2020</td>\n",
       "      <td>2620</td>\n",
       "      <td>3</td>\n",
       "    </tr>\n",
       "    <tr>\n",
       "      <th>3</th>\n",
       "      <td>ene-20</td>\n",
       "      <td>03/01/2020</td>\n",
       "      <td>47087</td>\n",
       "      <td>3</td>\n",
       "    </tr>\n",
       "    <tr>\n",
       "      <th>4</th>\n",
       "      <td>ene-20</td>\n",
       "      <td>03/01/2020</td>\n",
       "      <td>39755</td>\n",
       "      <td>3</td>\n",
       "    </tr>\n",
       "  </tbody>\n",
       "</table>\n",
       "</div>"
      ],
      "text/plain": [
       "  Periodo       Fecha  Cuenta  Consumo\n",
       "0  ene-20  03/01/2020   38195        1\n",
       "1  ene-20  03/01/2020   45324        2\n",
       "2  ene-20  03/01/2020    2620        3\n",
       "3  ene-20  03/01/2020   47087        3\n",
       "4  ene-20  03/01/2020   39755        3"
      ]
     },
     "metadata": {},
     "output_type": "display_data"
    },
    {
     "data": {
      "text/plain": [
       "'Cantidad total'"
      ]
     },
     "metadata": {},
     "output_type": "display_data"
    },
    {
     "data": {
      "text/plain": [
       "176204"
      ]
     },
     "metadata": {},
     "output_type": "display_data"
    },
    {
     "data": {
      "text/plain": [
       "'Cantidad total unicas cuentas:'"
      ]
     },
     "metadata": {},
     "output_type": "display_data"
    },
    {
     "data": {
      "text/plain": [
       "7681"
      ]
     },
     "metadata": {},
     "output_type": "display_data"
    },
    {
     "data": {
      "text/plain": [
       "('Consumo maximo:', 1613)"
      ]
     },
     "metadata": {},
     "output_type": "display_data"
    },
    {
     "data": {
      "text/html": [
       "<div>\n",
       "<style scoped>\n",
       "    .dataframe tbody tr th:only-of-type {\n",
       "        vertical-align: middle;\n",
       "    }\n",
       "\n",
       "    .dataframe tbody tr th {\n",
       "        vertical-align: top;\n",
       "    }\n",
       "\n",
       "    .dataframe thead th {\n",
       "        text-align: right;\n",
       "    }\n",
       "</style>\n",
       "<table border=\"1\" class=\"dataframe\">\n",
       "  <thead>\n",
       "    <tr style=\"text-align: right;\">\n",
       "      <th></th>\n",
       "      <th>Periodo</th>\n",
       "      <th>Fecha</th>\n",
       "      <th>Cuenta</th>\n",
       "      <th>Consumo</th>\n",
       "    </tr>\n",
       "  </thead>\n",
       "  <tbody>\n",
       "    <tr>\n",
       "      <th>120476</th>\n",
       "      <td>jul-21</td>\n",
       "      <td>19/07/2021</td>\n",
       "      <td>46816</td>\n",
       "      <td>1613</td>\n",
       "    </tr>\n",
       "    <tr>\n",
       "      <th>112257</th>\n",
       "      <td>jun-21</td>\n",
       "      <td>17/06/2021</td>\n",
       "      <td>46816</td>\n",
       "      <td>1579</td>\n",
       "    </tr>\n",
       "  </tbody>\n",
       "</table>\n",
       "</div>"
      ],
      "text/plain": [
       "       Periodo       Fecha  Cuenta  Consumo\n",
       "120476  jul-21  19/07/2021   46816     1613\n",
       "112257  jun-21  17/06/2021   46816     1579"
      ]
     },
     "metadata": {},
     "output_type": "display_data"
    },
    {
     "data": {
      "text/plain": [
       "'cuenta con consumo maximo:'"
      ]
     },
     "metadata": {},
     "output_type": "display_data"
    },
    {
     "data": {
      "text/html": [
       "<div>\n",
       "<style scoped>\n",
       "    .dataframe tbody tr th:only-of-type {\n",
       "        vertical-align: middle;\n",
       "    }\n",
       "\n",
       "    .dataframe tbody tr th {\n",
       "        vertical-align: top;\n",
       "    }\n",
       "\n",
       "    .dataframe thead th {\n",
       "        text-align: right;\n",
       "    }\n",
       "</style>\n",
       "<table border=\"1\" class=\"dataframe\">\n",
       "  <thead>\n",
       "    <tr style=\"text-align: right;\">\n",
       "      <th></th>\n",
       "      <th>Periodo</th>\n",
       "      <th>Fecha</th>\n",
       "      <th>Cuenta</th>\n",
       "      <th>Consumo</th>\n",
       "    </tr>\n",
       "  </thead>\n",
       "  <tbody>\n",
       "    <tr>\n",
       "      <th>120476</th>\n",
       "      <td>jul-21</td>\n",
       "      <td>19/07/2021</td>\n",
       "      <td>46816.0</td>\n",
       "      <td>1613.0</td>\n",
       "    </tr>\n",
       "    <tr>\n",
       "      <th>112257</th>\n",
       "      <td>jun-21</td>\n",
       "      <td>17/06/2021</td>\n",
       "      <td>46816.0</td>\n",
       "      <td>1579.0</td>\n",
       "    </tr>\n",
       "    <tr>\n",
       "      <th>35836</th>\n",
       "      <td>jun-20</td>\n",
       "      <td>17/06/2020</td>\n",
       "      <td>46816.0</td>\n",
       "      <td>1506.0</td>\n",
       "    </tr>\n",
       "    <tr>\n",
       "      <th>125241</th>\n",
       "      <td>ago-21</td>\n",
       "      <td>17/08/2021</td>\n",
       "      <td>46816.0</td>\n",
       "      <td>1473.0</td>\n",
       "    </tr>\n",
       "    <tr>\n",
       "      <th>43938</th>\n",
       "      <td>jul-20</td>\n",
       "      <td>20/07/2020</td>\n",
       "      <td>46816.0</td>\n",
       "      <td>1457.0</td>\n",
       "    </tr>\n",
       "    <tr>\n",
       "      <th>55270</th>\n",
       "      <td>sep-20</td>\n",
       "      <td>18/09/2020</td>\n",
       "      <td>46816.0</td>\n",
       "      <td>1447.0</td>\n",
       "    </tr>\n",
       "    <tr>\n",
       "      <th>87884</th>\n",
       "      <td>feb-21</td>\n",
       "      <td>18/02/2021</td>\n",
       "      <td>46816.0</td>\n",
       "      <td>1437.0</td>\n",
       "    </tr>\n",
       "    <tr>\n",
       "      <th>63153</th>\n",
       "      <td>oct-20</td>\n",
       "      <td>20/10/2020</td>\n",
       "      <td>46816.0</td>\n",
       "      <td>1433.0</td>\n",
       "    </tr>\n",
       "    <tr>\n",
       "      <th>30788</th>\n",
       "      <td>may-20</td>\n",
       "      <td>20/05/2020</td>\n",
       "      <td>46816.0</td>\n",
       "      <td>1424.0</td>\n",
       "    </tr>\n",
       "    <tr>\n",
       "      <th>101452</th>\n",
       "      <td>abr-21</td>\n",
       "      <td>20/04/2021</td>\n",
       "      <td>46816.0</td>\n",
       "      <td>1390.0</td>\n",
       "    </tr>\n",
       "    <tr>\n",
       "      <th>68168</th>\n",
       "      <td>nov-20</td>\n",
       "      <td>18/11/2020</td>\n",
       "      <td>46816.0</td>\n",
       "      <td>1372.0</td>\n",
       "    </tr>\n",
       "    <tr>\n",
       "      <th>94340</th>\n",
       "      <td>mar-21</td>\n",
       "      <td>18/03/2021</td>\n",
       "      <td>46816.0</td>\n",
       "      <td>1370.0</td>\n",
       "    </tr>\n",
       "    <tr>\n",
       "      <th>79547</th>\n",
       "      <td>ene-21</td>\n",
       "      <td>18/01/2021</td>\n",
       "      <td>46816.0</td>\n",
       "      <td>1336.0</td>\n",
       "    </tr>\n",
       "    <tr>\n",
       "      <th>74985</th>\n",
       "      <td>dic-20</td>\n",
       "      <td>18/12/2020</td>\n",
       "      <td>46816.0</td>\n",
       "      <td>1301.0</td>\n",
       "    </tr>\n",
       "    <tr>\n",
       "      <th>131861</th>\n",
       "      <td>sep-21</td>\n",
       "      <td>17/09/2021</td>\n",
       "      <td>46816.0</td>\n",
       "      <td>1294.0</td>\n",
       "    </tr>\n",
       "    <tr>\n",
       "      <th>23296</th>\n",
       "      <td>abr-20</td>\n",
       "      <td>17/04/2020</td>\n",
       "      <td>46816.0</td>\n",
       "      <td>1284.0</td>\n",
       "    </tr>\n",
       "    <tr>\n",
       "      <th>146728</th>\n",
       "      <td>nov-21</td>\n",
       "      <td>18/11/2021</td>\n",
       "      <td>46816.0</td>\n",
       "      <td>1216.0</td>\n",
       "    </tr>\n",
       "    <tr>\n",
       "      <th>105586</th>\n",
       "      <td>may-21</td>\n",
       "      <td>17/05/2021</td>\n",
       "      <td>46816.0</td>\n",
       "      <td>1176.0</td>\n",
       "    </tr>\n",
       "    <tr>\n",
       "      <th>48693</th>\n",
       "      <td>ago-20</td>\n",
       "      <td>19/08/2020</td>\n",
       "      <td>46816.0</td>\n",
       "      <td>1155.0</td>\n",
       "    </tr>\n",
       "    <tr>\n",
       "      <th>4428</th>\n",
       "      <td>ene-20</td>\n",
       "      <td>20/01/2020</td>\n",
       "      <td>46816.0</td>\n",
       "      <td>1131.0</td>\n",
       "    </tr>\n",
       "    <tr>\n",
       "      <th>138545</th>\n",
       "      <td>oct-21</td>\n",
       "      <td>18/10/2021</td>\n",
       "      <td>46816.0</td>\n",
       "      <td>1085.0</td>\n",
       "    </tr>\n",
       "    <tr>\n",
       "      <th>16016</th>\n",
       "      <td>mar-20</td>\n",
       "      <td>18/03/2020</td>\n",
       "      <td>46816.0</td>\n",
       "      <td>1020.0</td>\n",
       "    </tr>\n",
       "    <tr>\n",
       "      <th>173072</th>\n",
       "      <td>mar-22</td>\n",
       "      <td>18/03/2022</td>\n",
       "      <td>46816.0</td>\n",
       "      <td>992.0</td>\n",
       "    </tr>\n",
       "    <tr>\n",
       "      <th>153294</th>\n",
       "      <td>dic-21</td>\n",
       "      <td>18/12/2021</td>\n",
       "      <td>46816.0</td>\n",
       "      <td>991.0</td>\n",
       "    </tr>\n",
       "    <tr>\n",
       "      <th>166509</th>\n",
       "      <td>feb-22</td>\n",
       "      <td>17/02/2022</td>\n",
       "      <td>46816.0</td>\n",
       "      <td>960.0</td>\n",
       "    </tr>\n",
       "    <tr>\n",
       "      <th>12735</th>\n",
       "      <td>feb-20</td>\n",
       "      <td>19/02/2020</td>\n",
       "      <td>46816.0</td>\n",
       "      <td>950.0</td>\n",
       "    </tr>\n",
       "    <tr>\n",
       "      <th>158489</th>\n",
       "      <td>ene-22</td>\n",
       "      <td>17/01/2022</td>\n",
       "      <td>46816.0</td>\n",
       "      <td>868.0</td>\n",
       "    </tr>\n",
       "  </tbody>\n",
       "</table>\n",
       "</div>"
      ],
      "text/plain": [
       "       Periodo       Fecha   Cuenta  Consumo\n",
       "120476  jul-21  19/07/2021  46816.0   1613.0\n",
       "112257  jun-21  17/06/2021  46816.0   1579.0\n",
       "35836   jun-20  17/06/2020  46816.0   1506.0\n",
       "125241  ago-21  17/08/2021  46816.0   1473.0\n",
       "43938   jul-20  20/07/2020  46816.0   1457.0\n",
       "55270   sep-20  18/09/2020  46816.0   1447.0\n",
       "87884   feb-21  18/02/2021  46816.0   1437.0\n",
       "63153   oct-20  20/10/2020  46816.0   1433.0\n",
       "30788   may-20  20/05/2020  46816.0   1424.0\n",
       "101452  abr-21  20/04/2021  46816.0   1390.0\n",
       "68168   nov-20  18/11/2020  46816.0   1372.0\n",
       "94340   mar-21  18/03/2021  46816.0   1370.0\n",
       "79547   ene-21  18/01/2021  46816.0   1336.0\n",
       "74985   dic-20  18/12/2020  46816.0   1301.0\n",
       "131861  sep-21  17/09/2021  46816.0   1294.0\n",
       "23296   abr-20  17/04/2020  46816.0   1284.0\n",
       "146728  nov-21  18/11/2021  46816.0   1216.0\n",
       "105586  may-21  17/05/2021  46816.0   1176.0\n",
       "48693   ago-20  19/08/2020  46816.0   1155.0\n",
       "4428    ene-20  20/01/2020  46816.0   1131.0\n",
       "138545  oct-21  18/10/2021  46816.0   1085.0\n",
       "16016   mar-20  18/03/2020  46816.0   1020.0\n",
       "173072  mar-22  18/03/2022  46816.0    992.0\n",
       "153294  dic-21  18/12/2021  46816.0    991.0\n",
       "166509  feb-22  17/02/2022  46816.0    960.0\n",
       "12735   feb-20  19/02/2020  46816.0    950.0\n",
       "158489  ene-22  17/01/2022  46816.0    868.0"
      ]
     },
     "metadata": {},
     "output_type": "display_data"
    }
   ],
   "source": [
    "display(train_consumo.head(5))\n",
    "\n",
    "display(\"Cantidad total\", train_consumo['Cuenta'].count())\n",
    "\n",
    "display(\"Cantidad total unicas cuentas:\",train_consumo['Cuenta'].nunique())\n",
    "\n",
    "display((\"Consumo maximo:\",  train_consumo['Consumo'].max()))\n",
    "\n",
    "\n",
    "train_consumo.sort_values(\"Consumo\", inplace = True,ascending=False)\n",
    "\n",
    "display(train_consumo.head(2))\n",
    "\n",
    "display(\"cuenta con consumo maximo:\",train_consumo.where(train_consumo['Cuenta']== 46816).dropna())\n",
    "\n",
    "\n",
    "\n",
    "train_consumo['Periodo'] = train_consumo['Periodo'].astype(\"string\")\n",
    "# which will by default set the length to the max len it encounters\n",
    "#df = train_consumo.groupby(['Periodo']).count()\n",
    "\n"
   ]
  },
  {
   "cell_type": "code",
   "execution_count": 15,
   "id": "433ead89",
   "metadata": {},
   "outputs": [
    {
     "data": {
      "text/plain": [
       "<AxesSubplot:title={'center':'Cuentas con mayor consumo periodo 2021-2022'}, xlabel='Cuenta'>"
      ]
     },
     "metadata": {},
     "output_type": "display_data"
    },
    {
     "data": {
      "image/png": "[encoded data removed]",
      "text/plain": [
       "<Figure size 432x288 with 1 Axes>"
      ]
     },
     "metadata": {
      "needs_background": "light"
     },
     "output_type": "display_data"
    }
   ],
   "source": [
    "d = train_consumo.groupby(by=['Cuenta']).Consumo.agg(cantidad=('sum')).sort_values(by='cantidad', ascending=False).head(10)\n",
    "#d = train_consumo.groupby(by=['Cuenta']).Consumo.agg(['sum', 'count']).sort_values(by='sum', ascending=False).head(10)\n",
    "plot_consumo = d.plot(kind=\"bar\", title=\"Cuentas con mayor consumo periodo 2021-2022\")\n",
    "display(plot_consumo)"
   ]
  },
  {
   "cell_type": "code",
   "execution_count": 34,
   "id": "15bbf7bf",
   "metadata": {},
   "outputs": [
    {
     "data": {
      "text/plain": [
       "Periodo            object\n",
       "Fecha      datetime64[ns]\n",
       "Cuenta              int64\n",
       "Consumo             int64\n",
       "dtype: object"
      ]
     },
     "execution_count": 34,
     "metadata": {},
     "output_type": "execute_result"
    }
   ],
   "source": [
    "train_consumo[\"Fecha\"] = train_consumo[\"Fecha\"].astype(str)\n",
    "#train_consumo[\"Fecha\"] = train_consumo[\"Fecha\"].astype(\"datetime64[ns]\")\n",
    "train_consumo['Fecha'] = pd.to_datetime(train_consumo['Fecha'], format=\"%d/%m/%Y\")\n",
    "#train_consumo[\"Fecha\"] = train_consumo[\"Fecha\"].astype(\"datetime64[ns]\")\n",
    "train_consumo.dtypes\n"
   ]
  },
  {
   "cell_type": "code",
   "execution_count": 54,
   "id": "5ab7510d",
   "metadata": {},
   "outputs": [
    {
     "name": "stderr",
     "output_type": "stream",
     "text": [
      "c:\\Users\\migue\\AppData\\Local\\Programs\\Python\\Python39\\lib\\site-packages\\pandas\\core\\arraylike.py:48: UserWarning: Parsing '31/12/2021' in DD/MM/YYYY format. Provide format or specify infer_datetime_format=True for consistent parsing.\n",
      "  return self._cmp_method(other, operator.lt)\n"
     ]
    },
    {
     "data": {
      "text/plain": [
       "<AxesSubplot:title={'center':'Periodos con mayor consumo en M3'}, xlabel='Periodo', ylabel='Cantidad M3'>"
      ]
     },
     "execution_count": 54,
     "metadata": {},
     "output_type": "execute_result"
    },
    {
     "data": {
      "image/png": "[encoded data removed]",
      "text/plain": [
       "<Figure size 432x288 with 1 Axes>"
      ]
     },
     "metadata": {
      "needs_background": "light"
     },
     "output_type": "display_data"
    }
   ],
   "source": [
    "train_consumo.where((train_consumo.Fecha > '01/01/2021') & (train_consumo.Fecha < '31/12/2021'))\\\n",
    "    .groupby(by=['Periodo']).Consumo.agg(cantidad=('sum'))\\\n",
    "        .sort_values(by='cantidad', ascending=False).head(12)\\\n",
    "            .plot(kind=\"bar\", title=\"Periodos con mayor consumo en M3\", color=\"green\",ylabel=\"Cantidad M3\" )"
   ]
  },
  {
   "cell_type": "code",
   "execution_count": 48,
   "id": "6ad85c8c",
   "metadata": {},
   "outputs": [
    {
     "data": {
      "text/html": [
       "<div>\n",
       "<style scoped>\n",
       "    .dataframe tbody tr th:only-of-type {\n",
       "        vertical-align: middle;\n",
       "    }\n",
       "\n",
       "    .dataframe tbody tr th {\n",
       "        vertical-align: top;\n",
       "    }\n",
       "\n",
       "    .dataframe thead th {\n",
       "        text-align: right;\n",
       "    }\n",
       "</style>\n",
       "<table border=\"1\" class=\"dataframe\">\n",
       "  <thead>\n",
       "    <tr style=\"text-align: right;\">\n",
       "      <th></th>\n",
       "      <th>Periodo</th>\n",
       "      <th>Fecha</th>\n",
       "      <th>Cuenta</th>\n",
       "      <th>Consumo</th>\n",
       "      <th>Periodo2</th>\n",
       "    </tr>\n",
       "  </thead>\n",
       "  <tbody>\n",
       "    <tr>\n",
       "      <th>0</th>\n",
       "      <td>ene-20</td>\n",
       "      <td>2020-01-03</td>\n",
       "      <td>38195</td>\n",
       "      <td>1</td>\n",
       "      <td>202001</td>\n",
       "    </tr>\n",
       "    <tr>\n",
       "      <th>1</th>\n",
       "      <td>ene-20</td>\n",
       "      <td>2020-01-03</td>\n",
       "      <td>45324</td>\n",
       "      <td>2</td>\n",
       "      <td>202001</td>\n",
       "    </tr>\n",
       "    <tr>\n",
       "      <th>2</th>\n",
       "      <td>ene-20</td>\n",
       "      <td>2020-01-03</td>\n",
       "      <td>2620</td>\n",
       "      <td>3</td>\n",
       "      <td>202001</td>\n",
       "    </tr>\n",
       "    <tr>\n",
       "      <th>3</th>\n",
       "      <td>ene-20</td>\n",
       "      <td>2020-01-03</td>\n",
       "      <td>47087</td>\n",
       "      <td>3</td>\n",
       "      <td>202001</td>\n",
       "    </tr>\n",
       "    <tr>\n",
       "      <th>4</th>\n",
       "      <td>ene-20</td>\n",
       "      <td>2020-01-03</td>\n",
       "      <td>39755</td>\n",
       "      <td>3</td>\n",
       "      <td>202001</td>\n",
       "    </tr>\n",
       "  </tbody>\n",
       "</table>\n",
       "</div>"
      ],
      "text/plain": [
       "  Periodo      Fecha  Cuenta  Consumo Periodo2\n",
       "0  ene-20 2020-01-03   38195        1   202001\n",
       "1  ene-20 2020-01-03   45324        2   202001\n",
       "2  ene-20 2020-01-03    2620        3   202001\n",
       "3  ene-20 2020-01-03   47087        3   202001\n",
       "4  ene-20 2020-01-03   39755        3   202001"
      ]
     },
     "metadata": {},
     "output_type": "display_data"
    }
   ],
   "source": [
    "# creo la columna periodo2 con mes y año\n",
    "train_consumo['Periodo2'] = train_consumo['Fecha']\n",
    "train_consumo['Periodo2'] = train_consumo['Periodo2'].astype(\"string\")\n",
    "train_consumo['Periodo2'] = train_consumo['Periodo2'].replace(to_replace=(\"-\"), value=\"\", regex=True)\n",
    "train_consumo['Periodo2'] = train_consumo['Periodo2'].str.slice(start=0, stop=6)\n",
    "display(train_consumo.head(5))\n",
    "\n",
    "\n"
   ]
  },
  {
   "cell_type": "code",
   "execution_count": 49,
   "id": "29a4995b",
   "metadata": {},
   "outputs": [
    {
     "data": {
      "text/plain": [
       "Periodo             object\n",
       "Fecha       datetime64[ns]\n",
       "Cuenta               int64\n",
       "Consumo              int64\n",
       "Periodo2            string\n",
       "dtype: object"
      ]
     },
     "execution_count": 49,
     "metadata": {},
     "output_type": "execute_result"
    }
   ],
   "source": [
    "train_consumo.dtypes"
   ]
  },
  {
   "cell_type": "code",
   "execution_count": 52,
   "id": "64f8b47c",
   "metadata": {},
   "outputs": [
    {
     "name": "stderr",
     "output_type": "stream",
     "text": [
      "c:\\Users\\migue\\AppData\\Local\\Programs\\Python\\Python39\\lib\\site-packages\\pandas\\core\\arraylike.py:48: UserWarning: Parsing '31/12/2021' in DD/MM/YYYY format. Provide format or specify infer_datetime_format=True for consistent parsing.\n",
      "  return self._cmp_method(other, operator.lt)\n"
     ]
    },
    {
     "data": {
      "text/plain": [
       "<AxesSubplot:title={'center':'Periodos con mayor consumo'}, xlabel='Periodo 2021', ylabel='M3'>"
      ]
     },
     "execution_count": 52,
     "metadata": {},
     "output_type": "execute_result"
    },
    {
     "data": {
      "image/png": "[encoded data removed]",
      "text/plain": [
       "<Figure size 432x288 with 1 Axes>"
      ]
     },
     "metadata": {
      "needs_background": "light"
     },
     "output_type": "display_data"
    }
   ],
   "source": [
    "# Analizamos el 2021 ya que tenemos el año completo.\n",
    "\n",
    "train_consumo.sort_values(\"Fecha\")\n",
    "train_consumo.where((train_consumo.Fecha > '01/01/2021') & (train_consumo.Fecha < '31/12/2021')).groupby(by=['Periodo2'])\\\n",
    "    .Consumo.agg( cantidad=('sum'))\\\n",
    "        .head(12)\\\n",
    "            .plot(kind=\"bar\", title=\"Periodos con mayor consumo\", color=\"lightblue\", xlabel='Periodo 2021', ylabel=\"Cantidad M3\")"
   ]
  },
  {
   "cell_type": "code",
   "execution_count": null,
   "id": "cb8f76e4",
   "metadata": {},
   "outputs": [
    {
     "name": "stderr",
     "output_type": "stream",
     "text": [
      "c:\\Users\\migue\\AppData\\Local\\Programs\\Python\\Python39\\lib\\site-packages\\pandas\\core\\arraylike.py:48: UserWarning: Parsing '31/12/2021' in DD/MM/YYYY format. Provide format or specify infer_datetime_format=True for consistent parsing.\n",
      "  return self._cmp_method(other, operator.lt)\n"
     ]
    },
    {
     "data": {
      "text/html": [
       "<div>\n",
       "<style scoped>\n",
       "    .dataframe tbody tr th:only-of-type {\n",
       "        vertical-align: middle;\n",
       "    }\n",
       "\n",
       "    .dataframe tbody tr th {\n",
       "        vertical-align: top;\n",
       "    }\n",
       "\n",
       "    .dataframe thead th {\n",
       "        text-align: right;\n",
       "    }\n",
       "</style>\n",
       "<table border=\"1\" class=\"dataframe\">\n",
       "  <thead>\n",
       "    <tr style=\"text-align: right;\">\n",
       "      <th></th>\n",
       "      <th>cantidad</th>\n",
       "      <th>media</th>\n",
       "      <th>promedio</th>\n",
       "    </tr>\n",
       "    <tr>\n",
       "      <th>Periodo2</th>\n",
       "      <th></th>\n",
       "      <th></th>\n",
       "      <th></th>\n",
       "    </tr>\n",
       "  </thead>\n",
       "  <tbody>\n",
       "    <tr>\n",
       "      <th>202101</th>\n",
       "      <td>67219.0</td>\n",
       "      <td>8.0</td>\n",
       "      <td>10.273422</td>\n",
       "    </tr>\n",
       "    <tr>\n",
       "      <th>202102</th>\n",
       "      <td>59715.0</td>\n",
       "      <td>7.0</td>\n",
       "      <td>9.119578</td>\n",
       "    </tr>\n",
       "    <tr>\n",
       "      <th>202103</th>\n",
       "      <td>54664.0</td>\n",
       "      <td>7.0</td>\n",
       "      <td>8.349473</td>\n",
       "    </tr>\n",
       "    <tr>\n",
       "      <th>202104</th>\n",
       "      <td>58569.0</td>\n",
       "      <td>7.0</td>\n",
       "      <td>8.914612</td>\n",
       "    </tr>\n",
       "    <tr>\n",
       "      <th>202105</th>\n",
       "      <td>51709.0</td>\n",
       "      <td>6.0</td>\n",
       "      <td>7.871670</td>\n",
       "    </tr>\n",
       "    <tr>\n",
       "      <th>202106</th>\n",
       "      <td>54745.0</td>\n",
       "      <td>6.0</td>\n",
       "      <td>8.335110</td>\n",
       "    </tr>\n",
       "    <tr>\n",
       "      <th>202107</th>\n",
       "      <td>55738.0</td>\n",
       "      <td>7.0</td>\n",
       "      <td>8.492762</td>\n",
       "    </tr>\n",
       "    <tr>\n",
       "      <th>202108</th>\n",
       "      <td>56559.0</td>\n",
       "      <td>7.0</td>\n",
       "      <td>8.627059</td>\n",
       "    </tr>\n",
       "    <tr>\n",
       "      <th>202109</th>\n",
       "      <td>60673.0</td>\n",
       "      <td>7.0</td>\n",
       "      <td>9.265883</td>\n",
       "    </tr>\n",
       "    <tr>\n",
       "      <th>202110</th>\n",
       "      <td>61438.0</td>\n",
       "      <td>7.0</td>\n",
       "      <td>9.338501</td>\n",
       "    </tr>\n",
       "    <tr>\n",
       "      <th>202111</th>\n",
       "      <td>60803.0</td>\n",
       "      <td>7.0</td>\n",
       "      <td>9.202815</td>\n",
       "    </tr>\n",
       "    <tr>\n",
       "      <th>202112</th>\n",
       "      <td>64046.0</td>\n",
       "      <td>8.0</td>\n",
       "      <td>9.639675</td>\n",
       "    </tr>\n",
       "  </tbody>\n",
       "</table>\n",
       "</div>"
      ],
      "text/plain": [
       "          cantidad  media   promedio\n",
       "Periodo2                            \n",
       "202101     67219.0    8.0  10.273422\n",
       "202102     59715.0    7.0   9.119578\n",
       "202103     54664.0    7.0   8.349473\n",
       "202104     58569.0    7.0   8.914612\n",
       "202105     51709.0    6.0   7.871670\n",
       "202106     54745.0    6.0   8.335110\n",
       "202107     55738.0    7.0   8.492762\n",
       "202108     56559.0    7.0   8.627059\n",
       "202109     60673.0    7.0   9.265883\n",
       "202110     61438.0    7.0   9.338501\n",
       "202111     60803.0    7.0   9.202815\n",
       "202112     64046.0    8.0   9.639675"
      ]
     },
     "metadata": {},
     "output_type": "display_data"
    },
    {
     "name": "stderr",
     "output_type": "stream",
     "text": [
      "c:\\Users\\migue\\AppData\\Local\\Programs\\Python\\Python39\\lib\\site-packages\\pandas\\core\\arraylike.py:48: UserWarning: Parsing '31/12/2021' in DD/MM/YYYY format. Provide format or specify infer_datetime_format=True for consistent parsing.\n",
      "  return self._cmp_method(other, operator.lt)\n"
     ]
    },
    {
     "data": {
      "text/plain": [
       "<AxesSubplot:title={'center':'Periodos con mayor consumo'}, xlabel='Periodo 2021'>"
      ]
     },
     "execution_count": 180,
     "metadata": {},
     "output_type": "execute_result"
    },
    {
     "data": {
      "image/png": "[encoded data removed]",
      "text/plain": [
       "<Figure size 432x288 with 1 Axes>"
      ]
     },
     "metadata": {
      "needs_background": "light"
     },
     "output_type": "display_data"
    }
   ],
   "source": [
    "train_consumo.sort_values(\"Fecha\")\n",
    "display(train_consumo.where((train_consumo.Fecha > '01/01/2021') & (train_consumo.Fecha < '31/12/2021')).groupby(by=['Periodo2'])\\\n",
    "    .Consumo.agg( cantidad=('sum'), media=('median'), promedio=('mean'))\\\n",
    "        .head(12))\n",
    "\n",
    "train_consumo.sort_values(\"Fecha\")\n",
    "train_consumo.where((train_consumo.Fecha > '01/01/2021') & (train_consumo.Fecha < '31/12/2021')).groupby(by=['Periodo2'])\\\n",
    "    .Consumo.agg( cantidad=('sum'), media=('median'), promedio=('mean'))\\\n",
    "        .head(12)\\\n",
    "            .plot(kind=\"bar\", title=\"Periodos con mayor consumo\",  xlabel='Periodo 2021')"
   ]
  },
  {
   "cell_type": "code",
   "execution_count": null,
   "id": "89393a50",
   "metadata": {},
   "outputs": [
    {
     "data": {
      "text/html": [
       "<div>\n",
       "<style scoped>\n",
       "    .dataframe tbody tr th:only-of-type {\n",
       "        vertical-align: middle;\n",
       "    }\n",
       "\n",
       "    .dataframe tbody tr th {\n",
       "        vertical-align: top;\n",
       "    }\n",
       "\n",
       "    .dataframe thead th {\n",
       "        text-align: right;\n",
       "    }\n",
       "</style>\n",
       "<table border=\"1\" class=\"dataframe\">\n",
       "  <thead>\n",
       "    <tr style=\"text-align: right;\">\n",
       "      <th></th>\n",
       "      <th>Consumo</th>\n",
       "      <th>periodo_mes</th>\n",
       "      <th>Cuenta</th>\n",
       "    </tr>\n",
       "  </thead>\n",
       "  <tbody>\n",
       "    <tr>\n",
       "      <th>Consumo</th>\n",
       "      <td>1.000000</td>\n",
       "      <td>0.001304</td>\n",
       "      <td>-0.005077</td>\n",
       "    </tr>\n",
       "    <tr>\n",
       "      <th>periodo_mes</th>\n",
       "      <td>0.001304</td>\n",
       "      <td>1.000000</td>\n",
       "      <td>0.010242</td>\n",
       "    </tr>\n",
       "    <tr>\n",
       "      <th>Cuenta</th>\n",
       "      <td>-0.005077</td>\n",
       "      <td>0.010242</td>\n",
       "      <td>1.000000</td>\n",
       "    </tr>\n",
       "  </tbody>\n",
       "</table>\n",
       "</div>"
      ],
      "text/plain": [
       "              Consumo  periodo_mes    Cuenta\n",
       "Consumo      1.000000     0.001304 -0.005077\n",
       "periodo_mes  0.001304     1.000000  0.010242\n",
       "Cuenta      -0.005077     0.010242  1.000000"
      ]
     },
     "execution_count": 176,
     "metadata": {},
     "output_type": "execute_result"
    }
   ],
   "source": [
    "# Para analizar por separado los meses.\n",
    "#train_consumo['periodo_mes'] = train_consumo['Fecha'].dt.month\n",
    "train_consumo.head(10)\n",
    "train_consumo[['Consumo','periodo_mes','Cuenta']].corr(\"pearson\")"
   ]
  },
  {
   "cell_type": "code",
   "execution_count": 59,
   "id": "5afb9816",
   "metadata": {},
   "outputs": [
    {
     "data": {
      "text/html": [
       "<div>\n",
       "<style scoped>\n",
       "    .dataframe tbody tr th:only-of-type {\n",
       "        vertical-align: middle;\n",
       "    }\n",
       "\n",
       "    .dataframe tbody tr th {\n",
       "        vertical-align: top;\n",
       "    }\n",
       "\n",
       "    .dataframe thead th {\n",
       "        text-align: right;\n",
       "    }\n",
       "</style>\n",
       "<table border=\"1\" class=\"dataframe\">\n",
       "  <thead>\n",
       "    <tr style=\"text-align: right;\">\n",
       "      <th></th>\n",
       "      <th>Periodo</th>\n",
       "      <th>Fecha</th>\n",
       "      <th>Cuenta</th>\n",
       "      <th>Consumo</th>\n",
       "      <th>Periodo2</th>\n",
       "      <th>ConsumoGroup</th>\n",
       "      <th>ConsumoCategoria</th>\n",
       "    </tr>\n",
       "  </thead>\n",
       "  <tbody>\n",
       "    <tr>\n",
       "      <th>0</th>\n",
       "      <td>ene-20</td>\n",
       "      <td>2020-01-03</td>\n",
       "      <td>38195</td>\n",
       "      <td>1</td>\n",
       "      <td>202001</td>\n",
       "      <td>residencial</td>\n",
       "      <td>1</td>\n",
       "    </tr>\n",
       "    <tr>\n",
       "      <th>1</th>\n",
       "      <td>ene-20</td>\n",
       "      <td>2020-01-03</td>\n",
       "      <td>45324</td>\n",
       "      <td>2</td>\n",
       "      <td>202001</td>\n",
       "      <td>residencial</td>\n",
       "      <td>1</td>\n",
       "    </tr>\n",
       "    <tr>\n",
       "      <th>2</th>\n",
       "      <td>ene-20</td>\n",
       "      <td>2020-01-03</td>\n",
       "      <td>2620</td>\n",
       "      <td>3</td>\n",
       "      <td>202001</td>\n",
       "      <td>residencial</td>\n",
       "      <td>1</td>\n",
       "    </tr>\n",
       "    <tr>\n",
       "      <th>3</th>\n",
       "      <td>ene-20</td>\n",
       "      <td>2020-01-03</td>\n",
       "      <td>47087</td>\n",
       "      <td>3</td>\n",
       "      <td>202001</td>\n",
       "      <td>residencial</td>\n",
       "      <td>1</td>\n",
       "    </tr>\n",
       "    <tr>\n",
       "      <th>4</th>\n",
       "      <td>ene-20</td>\n",
       "      <td>2020-01-03</td>\n",
       "      <td>39755</td>\n",
       "      <td>3</td>\n",
       "      <td>202001</td>\n",
       "      <td>residencial</td>\n",
       "      <td>1</td>\n",
       "    </tr>\n",
       "    <tr>\n",
       "      <th>5</th>\n",
       "      <td>ene-20</td>\n",
       "      <td>2020-01-03</td>\n",
       "      <td>47103</td>\n",
       "      <td>4</td>\n",
       "      <td>202001</td>\n",
       "      <td>residencial</td>\n",
       "      <td>1</td>\n",
       "    </tr>\n",
       "    <tr>\n",
       "      <th>6</th>\n",
       "      <td>ene-20</td>\n",
       "      <td>2020-01-03</td>\n",
       "      <td>39423</td>\n",
       "      <td>4</td>\n",
       "      <td>202001</td>\n",
       "      <td>residencial</td>\n",
       "      <td>1</td>\n",
       "    </tr>\n",
       "    <tr>\n",
       "      <th>7</th>\n",
       "      <td>ene-20</td>\n",
       "      <td>2020-01-03</td>\n",
       "      <td>46831</td>\n",
       "      <td>5</td>\n",
       "      <td>202001</td>\n",
       "      <td>residencial</td>\n",
       "      <td>1</td>\n",
       "    </tr>\n",
       "    <tr>\n",
       "      <th>8</th>\n",
       "      <td>ene-20</td>\n",
       "      <td>2020-01-03</td>\n",
       "      <td>3754</td>\n",
       "      <td>7</td>\n",
       "      <td>202001</td>\n",
       "      <td>residencial</td>\n",
       "      <td>1</td>\n",
       "    </tr>\n",
       "    <tr>\n",
       "      <th>9</th>\n",
       "      <td>ene-20</td>\n",
       "      <td>2020-01-06</td>\n",
       "      <td>6079</td>\n",
       "      <td>0</td>\n",
       "      <td>202001</td>\n",
       "      <td>residencial</td>\n",
       "      <td>1</td>\n",
       "    </tr>\n",
       "  </tbody>\n",
       "</table>\n",
       "</div>"
      ],
      "text/plain": [
       "  Periodo      Fecha  Cuenta  Consumo Periodo2 ConsumoGroup ConsumoCategoria\n",
       "0  ene-20 2020-01-03   38195        1   202001  residencial                1\n",
       "1  ene-20 2020-01-03   45324        2   202001  residencial                1\n",
       "2  ene-20 2020-01-03    2620        3   202001  residencial                1\n",
       "3  ene-20 2020-01-03   47087        3   202001  residencial                1\n",
       "4  ene-20 2020-01-03   39755        3   202001  residencial                1\n",
       "5  ene-20 2020-01-03   47103        4   202001  residencial                1\n",
       "6  ene-20 2020-01-03   39423        4   202001  residencial                1\n",
       "7  ene-20 2020-01-03   46831        5   202001  residencial                1\n",
       "8  ene-20 2020-01-03    3754        7   202001  residencial                1\n",
       "9  ene-20 2020-01-06    6079        0   202001  residencial                1"
      ]
     },
     "execution_count": 59,
     "metadata": {},
     "output_type": "execute_result"
    }
   ],
   "source": [
    "# vamos a categorizar los clientes de acuerdo a su consumo.\n",
    "# observamos la tanto la media como el promedio mensual es entre 8 y 10 vamos poner como categoria principal a Clientes con consumo bajo los que\n",
    "# van desde 11 a 100 consumo medio y los que consumen 101 en adelante los considaremos como industria.\n",
    "d = train_consumo.where(train_consumo.Consumo > 100 ).dropna()\n",
    "dd = d['Cuenta']\n",
    "dd.size\n",
    "\n",
    "## creando ConsumoGroup\n",
    "bins= [0,10,100,2000 ]\n",
    "labels = ['residencial','comercio','industria']\n",
    "train_consumo['ConsumoGroup'] = pd.cut(train_consumo['Consumo'], bins=bins, labels=labels, right=False)\n",
    "\n",
    "labels = ['1','2','3']\n",
    "train_consumo['ConsumoCategoria'] = pd.cut(train_consumo['Consumo'], bins=bins, labels=labels, right=False)\n",
    "train_consumo.head(10)\n"
   ]
  },
  {
   "cell_type": "code",
   "execution_count": 61,
   "id": "e05df397",
   "metadata": {},
   "outputs": [
    {
     "name": "stderr",
     "output_type": "stream",
     "text": [
      "c:\\Users\\migue\\AppData\\Local\\Programs\\Python\\Python39\\lib\\site-packages\\pandas\\core\\arraylike.py:48: UserWarning: Parsing '31/12/2021' in DD/MM/YYYY format. Provide format or specify infer_datetime_format=True for consistent parsing.\n",
      "  return self._cmp_method(other, operator.lt)\n"
     ]
    },
    {
     "data": {
      "image/png": "[encoded data removed]",
      "text/plain": [
       "<Figure size 432x288 with 1 Axes>"
      ]
     },
     "metadata": {
      "needs_background": "light"
     },
     "output_type": "display_data"
    }
   ],
   "source": [
    "train_consumo.where((train_consumo.Fecha > '01/01/2021') & (train_consumo.Fecha < '31/12/2021'))\\\n",
    ".groupby(by=['ConsumoGroup']).Consumo.agg(Cantidad=('sum'))\\\n",
    "    .sort_values(by='Cantidad', ascending=False)\\\n",
    "        .plot(kind=\"bar\", title=\"Consumo por grupo\", color=\"green\")\n",
    "fig = plt.gcf()\n",
    "fig.savefig('consumos.png')"
   ]
  },
  {
   "cell_type": "code",
   "execution_count": null,
   "id": "4b8fa233",
   "metadata": {},
   "outputs": [],
   "source": []
  },
  {
   "cell_type": "code",
   "execution_count": null,
   "id": "e7e988d8",
   "metadata": {},
   "outputs": [
    {
     "name": "stderr",
     "output_type": "stream",
     "text": [
      "c:\\Users\\migue\\AppData\\Local\\Programs\\Python\\Python39\\lib\\site-packages\\pandas\\core\\arraylike.py:48: UserWarning: Parsing '31/12/2021' in DD/MM/YYYY format. Provide format or specify infer_datetime_format=True for consistent parsing.\n",
      "  return self._cmp_method(other, operator.lt)\n"
     ]
    },
    {
     "data": {
      "text/plain": [
       "'cuak'"
      ]
     },
     "metadata": {},
     "output_type": "display_data"
    },
    {
     "data": {
      "text/html": [
       "<div>\n",
       "<style scoped>\n",
       "    .dataframe tbody tr th:only-of-type {\n",
       "        vertical-align: middle;\n",
       "    }\n",
       "\n",
       "    .dataframe tbody tr th {\n",
       "        vertical-align: top;\n",
       "    }\n",
       "\n",
       "    .dataframe thead th {\n",
       "        text-align: right;\n",
       "    }\n",
       "</style>\n",
       "<table border=\"1\" class=\"dataframe\">\n",
       "  <thead>\n",
       "    <tr style=\"text-align: right;\">\n",
       "      <th></th>\n",
       "      <th>Cantidad</th>\n",
       "    </tr>\n",
       "    <tr>\n",
       "      <th>ConsumoGroup</th>\n",
       "      <th></th>\n",
       "    </tr>\n",
       "  </thead>\n",
       "  <tbody>\n",
       "    <tr>\n",
       "      <th>comercio</th>\n",
       "      <td>429127.0</td>\n",
       "    </tr>\n",
       "    <tr>\n",
       "      <th>residencial</th>\n",
       "      <td>236518.0</td>\n",
       "    </tr>\n",
       "    <tr>\n",
       "      <th>industria</th>\n",
       "      <td>40233.0</td>\n",
       "    </tr>\n",
       "  </tbody>\n",
       "</table>\n",
       "</div>"
      ],
      "text/plain": [
       "              Cantidad\n",
       "ConsumoGroup          \n",
       "comercio      429127.0\n",
       "residencial   236518.0\n",
       "industria      40233.0"
      ]
     },
     "metadata": {},
     "output_type": "display_data"
    },
    {
     "data": {
      "text/plain": [
       "'ConsumoGroup::'"
      ]
     },
     "metadata": {},
     "output_type": "display_data"
    },
    {
     "data": {
      "text/plain": [
       "\"\\ncomercio = vals.Cantidad[0]\\nresidencial =  vals.Cantidad[1]\\nIndustria =  vals.Cantidad[2]\\n\\nwidth = 0.55       \\n\\nfig, ax = plt.subplots()\\n\\nax.bar(labels, vals.Cantidad, width, label='Consumos')\\n\\nax.set_ylabel('Cantidad de m3 de consumo')\\nax.set_title('Consumo por Categoria')\\nax.legend()\\n\\nplt.show()\""
      ]
     },
     "execution_count": 264,
     "metadata": {},
     "output_type": "execute_result"
    }
   ],
   "source": [
    "# Representación grafica de consumo, de acuerdo cada categoria.\n",
    "\n",
    "\n",
    "vals = train_consumo.where((train_consumo.Fecha > '01/01/2021') & (train_consumo.Fecha < '31/12/2021'))\\\n",
    ".groupby(by=['ConsumoGroup']).Consumo.agg(Cantidad=('sum')).sort_values(by='Cantidad', ascending=False)\n",
    "\n",
    "display(\"cuak\", vals)\n",
    "\n",
    "display(\"ConsumoGroup::\")\n",
    "\n",
    "\n",
    "\"\"\"\n",
    "comercio = vals.Cantidad[0]\n",
    "residencial =  vals.Cantidad[1]\n",
    "Industria =  vals.Cantidad[2]\n",
    "\n",
    "width = 0.55       \n",
    "pip install virtualenv\n",
    "fig, ax = plt.subplots()\n",
    "\n",
    "ax.bar(labels, vals.Cantidad, width, label='Consumos')\n",
    "\n",
    "ax.set_ylabel('Cantidad de m3 de consumo')\n",
    "ax.set_title('Consumo por Categoria')\n",
    "ax.legend()\n",
    "\n",
    "plt.show()\"\"\""
   ]
  },
  {
   "cell_type": "code",
   "execution_count": 78,
   "id": "f76ffc95",
   "metadata": {},
   "outputs": [
    {
     "name": "stderr",
     "output_type": "stream",
     "text": [
      "c:\\Users\\migue\\AppData\\Local\\Programs\\Python\\Python39\\lib\\site-packages\\pandas\\core\\arraylike.py:48: UserWarning: Parsing '31/12/2021' in DD/MM/YYYY format. Provide format or specify infer_datetime_format=True for consistent parsing.\n",
      "  return self._cmp_method(other, operator.lt)\n"
     ]
    },
    {
     "data": {
      "image/png": "[encoded data removed]",
      "text/plain": [
       "<Figure size 432x288 with 1 Axes>"
      ]
     },
     "metadata": {
      "needs_background": "light"
     },
     "output_type": "display_data"
    }
   ],
   "source": [
    "consumo_categ = train_consumo.where((train_consumo.Fecha > '01/01/2021') & (train_consumo.Fecha < '31/12/2021'))\\\n",
    ".groupby(by=['ConsumoGroup', 'Periodo2']).Consumo.agg(Cantidad=('sum'))\\\n",
    "    .sort_values(by='Cantidad', ascending=False).unstack('ConsumoGroup')\n",
    "\n",
    "consumo_categ.plot.bar()  \n",
    "fig = plt.gcf()\n",
    "fig.savefig(\"consumo_x_grupo_x_periodo.png\")"
   ]
  },
  {
   "cell_type": "code",
   "execution_count": null,
   "id": "cf75b58d",
   "metadata": {},
   "outputs": [
    {
     "data": {
      "text/html": [
       "<div>\n",
       "<style scoped>\n",
       "    .dataframe tbody tr th:only-of-type {\n",
       "        vertical-align: middle;\n",
       "    }\n",
       "\n",
       "    .dataframe tbody tr th {\n",
       "        vertical-align: top;\n",
       "    }\n",
       "\n",
       "    .dataframe thead tr th {\n",
       "        text-align: left;\n",
       "    }\n",
       "\n",
       "    .dataframe thead tr:last-of-type th {\n",
       "        text-align: right;\n",
       "    }\n",
       "</style>\n",
       "<table border=\"1\" class=\"dataframe\">\n",
       "  <thead>\n",
       "    <tr>\n",
       "      <th></th>\n",
       "      <th colspan=\"3\" halign=\"left\">Cantidad</th>\n",
       "    </tr>\n",
       "    <tr>\n",
       "      <th>ConsumoGroup</th>\n",
       "      <th>residencial</th>\n",
       "      <th>comercio</th>\n",
       "      <th>industria</th>\n",
       "    </tr>\n",
       "    <tr>\n",
       "      <th>Periodo2</th>\n",
       "      <th></th>\n",
       "      <th></th>\n",
       "      <th></th>\n",
       "    </tr>\n",
       "  </thead>\n",
       "  <tbody>\n",
       "    <tr>\n",
       "      <th>202101</th>\n",
       "      <td>17365.0</td>\n",
       "      <td>47061.0</td>\n",
       "      <td>2793.0</td>\n",
       "    </tr>\n",
       "    <tr>\n",
       "      <th>202102</th>\n",
       "      <td>19713.0</td>\n",
       "      <td>36894.0</td>\n",
       "      <td>3108.0</td>\n",
       "    </tr>\n",
       "    <tr>\n",
       "      <th>202103</th>\n",
       "      <td>20798.0</td>\n",
       "      <td>30811.0</td>\n",
       "      <td>3055.0</td>\n",
       "    </tr>\n",
       "    <tr>\n",
       "      <th>202104</th>\n",
       "      <td>19927.0</td>\n",
       "      <td>34938.0</td>\n",
       "      <td>3704.0</td>\n",
       "    </tr>\n",
       "    <tr>\n",
       "      <th>202105</th>\n",
       "      <td>20700.0</td>\n",
       "      <td>28241.0</td>\n",
       "      <td>2768.0</td>\n",
       "    </tr>\n",
       "    <tr>\n",
       "      <th>202106</th>\n",
       "      <td>20284.0</td>\n",
       "      <td>30880.0</td>\n",
       "      <td>3581.0</td>\n",
       "    </tr>\n",
       "    <tr>\n",
       "      <th>202107</th>\n",
       "      <td>20147.0</td>\n",
       "      <td>31665.0</td>\n",
       "      <td>3926.0</td>\n",
       "    </tr>\n",
       "    <tr>\n",
       "      <th>202108</th>\n",
       "      <td>20060.0</td>\n",
       "      <td>33152.0</td>\n",
       "      <td>3347.0</td>\n",
       "    </tr>\n",
       "    <tr>\n",
       "      <th>202109</th>\n",
       "      <td>19409.0</td>\n",
       "      <td>37220.0</td>\n",
       "      <td>4044.0</td>\n",
       "    </tr>\n",
       "    <tr>\n",
       "      <th>202110</th>\n",
       "      <td>19422.0</td>\n",
       "      <td>38788.0</td>\n",
       "      <td>3228.0</td>\n",
       "    </tr>\n",
       "    <tr>\n",
       "      <th>202111</th>\n",
       "      <td>19511.0</td>\n",
       "      <td>38020.0</td>\n",
       "      <td>3272.0</td>\n",
       "    </tr>\n",
       "    <tr>\n",
       "      <th>202112</th>\n",
       "      <td>19182.0</td>\n",
       "      <td>41457.0</td>\n",
       "      <td>3407.0</td>\n",
       "    </tr>\n",
       "  </tbody>\n",
       "</table>\n",
       "</div>"
      ],
      "text/plain": [
       "                Cantidad                   \n",
       "ConsumoGroup residencial comercio industria\n",
       "Periodo2                                   \n",
       "202101           17365.0  47061.0    2793.0\n",
       "202102           19713.0  36894.0    3108.0\n",
       "202103           20798.0  30811.0    3055.0\n",
       "202104           19927.0  34938.0    3704.0\n",
       "202105           20700.0  28241.0    2768.0\n",
       "202106           20284.0  30880.0    3581.0\n",
       "202107           20147.0  31665.0    3926.0\n",
       "202108           20060.0  33152.0    3347.0\n",
       "202109           19409.0  37220.0    4044.0\n",
       "202110           19422.0  38788.0    3228.0\n",
       "202111           19511.0  38020.0    3272.0\n",
       "202112           19182.0  41457.0    3407.0"
      ]
     },
     "metadata": {},
     "output_type": "display_data"
    }
   ],
   "source": [
    "display(consumo_categ)"
   ]
  },
  {
   "cell_type": "markdown",
   "id": "c1586fc0",
   "metadata": {},
   "source": [
    "Conclusiones sobre el analisis de consumo\n"
   ]
  },
  {
   "cell_type": "code",
   "execution_count": 69,
   "id": "1adef1d4",
   "metadata": {},
   "outputs": [
    {
     "data": {
      "application/vnd.jupyter.widget-view+json": {
       "model_id": "0ba27b4c6d474e3ca30145f8996f3c91",
       "version_major": 2,
       "version_minor": 0
      },
      "text/plain": [
       "BokehModel(combine_events=True, render_bundle={'docs_json': {'9ab4eacc-d0cc-4348-8855-54e7882c038d': {'defs': …"
      ]
     },
     "metadata": {},
     "output_type": "display_data"
    },
    {
     "data": {
      "text/html": [
       "<div style=\"display: none\"></div>"
      ],
      "text/plain": [
       "IntSlider(end=2022, name='Años', start=2021, value=2021)"
      ]
     },
     "execution_count": 69,
     "metadata": {},
     "output_type": "execute_result"
    }
   ],
   "source": [
    "# Define Panel widgets\n",
    "# pip install jupyter_bokeh\n",
    "year_slider = panel.widgets.IntSlider(name='Años', start=2021, end=2022, step=1, value=2021)\n",
    "year_slider"
   ]
  },
  {
   "cell_type": "code",
   "execution_count": 79,
   "id": "8c81d4e9",
   "metadata": {},
   "outputs": [
    {
     "ename": "SyntaxError",
     "evalue": "invalid syntax (2697331975.py, line 17)",
     "output_type": "error",
     "traceback": [
      "\u001b[1;36m  Input \u001b[1;32mIn [79]\u001b[1;36m\u001b[0m\n\u001b[1;33m    panel.Row(panel.Column(panel.pane.PNG('consumo_x_grupo_x_periodo.png', sizing_mode='scale_both') )),\u001b[0m\n\u001b[1;37m    ^\u001b[0m\n\u001b[1;31mSyntaxError\u001b[0m\u001b[1;31m:\u001b[0m invalid syntax\n"
     ]
    }
   ],
   "source": [
    "\"\"\"main=[panel.Row(panel.Column(yaxis_co2, co2_plot.panel(width=700), margin=(0,25)), co2_table.panel(width=500)), \n",
    "          panel.Row(panel.Column(co2_vs_gdp_scatterplot.panel(width=600), margin=(0,25)), panel.Column(yaxis_co2_source, co2_source_bar_plot.panel(width=600)))],\"\"\"\n",
    "#Layout using Template\n",
    "template = panel.template.MaterialTemplate(\n",
    "    title='Análisis de Consumo Anual poblacion morteros y Nivel de Cisterna', \n",
    "    sidebar=[panel.pane.Markdown(\"# Consumo de la población\"), \n",
    "             panel.pane.Markdown(\"#### Analisis del consumo de la poblacion de moteros. \\\n",
    "             El consumo se presenta en cantidad de m3 de acuerdo al consumo de cada cliente, donde se los categorizaron de acuerdo al consumo presentado.\"), \n",
    "             panel.pane.PNG('consumos.png', sizing_mode='scale_both'),\n",
    "             panel.pane.Markdown(\"## Settings\"),   \n",
    "             year_slider],\n",
    "\n",
    "          main= [\n",
    "                panel.Row(panel.Column(plot_consumo)),\n",
    "                panel.Row(panel.Column(panel.pane.PNG('consumos.png', sizing_mode='scale_both') )),\n",
    "                panel.Row(\"Texto...\"),\n",
    "                panel.Row(panel.Column(panel.pane.PNG('consumo_x_grupo_x_periodo.png', sizing_mode='scale_both') )),\n",
    "                \n",
    "                \n",
    "          ],\n",
    "    accent_base_color=\"#28d8b3\",\n",
    "    header_background=\"#48d8b3\",\n",
    ")\n",
    "template.show()\n",
    "template.servable();"
   ]
  },
  {
   "cell_type": "code",
   "execution_count": null,
   "id": "d86a0886",
   "metadata": {},
   "outputs": [
    {
     "name": "stdout",
     "output_type": "stream",
     "text": [
      "(454, 8)\n"
     ]
    }
   ],
   "source": [
    "# **********************************************************************************\n",
    "# *************** COMIENZA EL ANALISIS DEL DATASET DE CONSUMO DE AGUA **************\n",
    "\n",
    "train_df['Nivel_Cisterna'].isnull().values.any()\n",
    "print(train_df.shape)\n",
    "# print(train_df.loc[[112]])"
   ]
  },
  {
   "cell_type": "code",
   "execution_count": null,
   "id": "3be11ca0",
   "metadata": {},
   "outputs": [
    {
     "data": {
      "text/plain": [
       "'\\nfor index, c in enumerate(train_df[\\'Nivel_Cisterna\\']):\\n    val = val + c\\n    c = val\\n    val= \"\"\\n    c = c.replace(\",\", \".\")     \\n    c = float(c)    \\n    train_df.loc[[index]] = c\\n\\n\\ntrain_df[\\'Nivel_Cisterna\\'] = train_df[\\'Nivel_Cisterna\\'].astype(float)\\nprint(\"what \", train_df[\\'Nivel_Cisterna\\'])\\n '"
      ]
     },
     "execution_count": 9,
     "metadata": {},
     "output_type": "execute_result"
    }
   ],
   "source": [
    "#train_df.apply(pd.to_numeric, errors='ignore') aplica a todas las columnas, pero si da error, chauu\n",
    "# Cambiando los tipos de datos en las columns Nivel_Cisterna objet to float\n",
    "\n"
   ]
  },
  {
   "cell_type": "code",
   "execution_count": null,
   "id": "09bbe3a0",
   "metadata": {},
   "outputs": [
    {
     "name": "stdout",
     "output_type": "stream",
     "text": [
      "0      3303.0\n",
      "1      3039.0\n",
      "2      3133.0\n",
      "3      3221.0\n",
      "4      3309.0\n",
      "        ...  \n",
      "449    3403.0\n",
      "450    3227.0\n",
      "451    3222.0\n",
      "452    3198.0\n",
      "453    3272.0\n",
      "Name: Prom_Ingreso_Hora, Length: 454, dtype: float64\n"
     ]
    }
   ],
   "source": [
    "\n",
    "train_df['Nivel_Cisterna'] = train_df['Nivel_Cisterna'].astype(str)\n",
    "train_df['Nivel_Cisterna'] = train_df['Nivel_Cisterna'].str.replace(',','.')\n",
    "train_df['Nivel_Cisterna'] = train_df['Nivel_Cisterna'].astype(float)\n",
    "\n",
    "\n",
    "train_df['Prom_Ingreso_Hora'] = train_df['Prom_Ingreso_Hora'].astype(str)\n",
    "train_df['Prom_Ingreso_Hora'] = train_df['Prom_Ingreso_Hora'].str.replace(',','.')\n",
    "train_df['Prom_Ingreso_Hora'] = train_df['Prom_Ingreso_Hora'].astype(float)\n",
    "\n",
    "print(train_df['Prom_Ingreso_Hora'])\n",
    "\n",
    "train_df['Prom_Egreso_Hora'] = train_df['Prom_Egreso_Hora'].astype(str)\n",
    "train_df['Prom_Egreso_Hora'] = train_df['Prom_Egreso_Hora'].str.replace(',','.')\n",
    "train_df['Prom_Egreso_Hora'] = train_df['Prom_Egreso_Hora'].astype(float)\n",
    "\n",
    "train_df['Humedad'] = train_df['Humedad'].astype(str)\n",
    "train_df['Humedad'] = train_df['Humedad'].str.replace(',','.')\n",
    "train_df['Humedad'] = train_df['Humedad'].astype(float)\n",
    "\n",
    "train_df['Temperatura'] = train_df['Temperatura'].astype(str)\n",
    "train_df['Temperatura'] = train_df['Temperatura'].str.replace(',','.')\n",
    "train_df['Temperatura'] = train_df['Temperatura'].astype(float)\n",
    "\n",
    "\n",
    "# cambiando la fecha ... primero convierto a string, despues a dd/M/yy a Y/m/d y y por ultimo a Date .....\n",
    "train_df['Fecha'] = train_df['Fecha'].astype(str)\n",
    "train_df['Fecha'] = pd.to_datetime(train_df['Fecha'], format=\"%d/%m/%Y\")\n",
    "#train_df['Fecha'] = train_df['Fecha'].dt.strftime('%d/%m/%Y')\n",
    "\n"
   ]
  },
  {
   "cell_type": "code",
   "execution_count": null,
   "id": "8d1f7f9e",
   "metadata": {},
   "outputs": [
    {
     "name": "stdout",
     "output_type": "stream",
     "text": [
      "Fecha                datetime64[ns]\n",
      "Ingreso_m3/h                 object\n",
      "Egreso_m3/h                  object\n",
      "Prom_Ingreso_Hora           float64\n",
      "Prom_Egreso_Hora            float64\n",
      "Humedad                     float64\n",
      "Temperatura                 float64\n",
      "Nivel_Cisterna              float64\n",
      "dtype: object\n",
      "\n"
     ]
    }
   ],
   "source": [
    "# buscando correlacion entre las variables\n",
    "print(train_df.dtypes)\n",
    "\n",
    "print(\"\")\n"
   ]
  },
  {
   "cell_type": "code",
   "execution_count": null,
   "id": "2cac5f08",
   "metadata": {},
   "outputs": [
    {
     "name": "stdout",
     "output_type": "stream",
     "text": [
      "Correlacion de Nivel de Cisterna\n"
     ]
    },
    {
     "data": {
      "text/html": [
       "<style type=\"text/css\">\n",
       "#T_890b1_row0_col0 {\n",
       "  background-color: #023858;\n",
       "  color: #f1f1f1;\n",
       "}\n",
       "#T_890b1_row1_col0 {\n",
       "  background-color: #73a9cf;\n",
       "  color: #f1f1f1;\n",
       "}\n",
       "#T_890b1_row2_col0 {\n",
       "  background-color: #f3edf5;\n",
       "  color: #000000;\n",
       "}\n",
       "#T_890b1_row3_col0 {\n",
       "  background-color: #fdf5fa;\n",
       "  color: #000000;\n",
       "}\n",
       "#T_890b1_row4_col0 {\n",
       "  background-color: #fff7fb;\n",
       "  color: #000000;\n",
       "}\n",
       "</style>\n",
       "<table id=\"T_890b1\">\n",
       "  <thead>\n",
       "    <tr>\n",
       "      <th class=\"blank level0\" >&nbsp;</th>\n",
       "      <th id=\"T_890b1_level0_col0\" class=\"col_heading level0 col0\" >Nivel_Cisterna</th>\n",
       "    </tr>\n",
       "  </thead>\n",
       "  <tbody>\n",
       "    <tr>\n",
       "      <th id=\"T_890b1_level0_row0\" class=\"row_heading level0 row0\" >Nivel_Cisterna</th>\n",
       "      <td id=\"T_890b1_row0_col0\" class=\"data row0 col0\" >1.000000</td>\n",
       "    </tr>\n",
       "    <tr>\n",
       "      <th id=\"T_890b1_level0_row1\" class=\"row_heading level0 row1\" >Humedad</th>\n",
       "      <td id=\"T_890b1_row1_col0\" class=\"data row1 col0\" >0.391426</td>\n",
       "    </tr>\n",
       "    <tr>\n",
       "      <th id=\"T_890b1_level0_row2\" class=\"row_heading level0 row2\" >Temperatura</th>\n",
       "      <td id=\"T_890b1_row2_col0\" class=\"data row2 col0\" >-0.124657</td>\n",
       "    </tr>\n",
       "    <tr>\n",
       "      <th id=\"T_890b1_level0_row3\" class=\"row_heading level0 row3\" >Prom_Ingreso_Hora</th>\n",
       "      <td id=\"T_890b1_row3_col0\" class=\"data row3 col0\" >-0.205151</td>\n",
       "    </tr>\n",
       "    <tr>\n",
       "      <th id=\"T_890b1_level0_row4\" class=\"row_heading level0 row4\" >Prom_Egreso_Hora</th>\n",
       "      <td id=\"T_890b1_row4_col0\" class=\"data row4 col0\" >-0.222337</td>\n",
       "    </tr>\n",
       "  </tbody>\n",
       "</table>\n"
      ],
      "text/plain": [
       "<pandas.io.formats.style.Styler at 0x18f1322d580>"
      ]
     },
     "execution_count": 12,
     "metadata": {},
     "output_type": "execute_result"
    }
   ],
   "source": [
    "print(\"Correlacion de Nivel de Cisterna\")\n",
    "corr = train_df.corr()\n",
    "corr[['Nivel_Cisterna']].sort_values(by = 'Nivel_Cisterna',ascending = False).style.background_gradient()"
   ]
  },
  {
   "cell_type": "code",
   "execution_count": null,
   "id": "3605b39a",
   "metadata": {},
   "outputs": [
    {
     "data": {
      "text/html": [
       "<div>\n",
       "<style scoped>\n",
       "    .dataframe tbody tr th:only-of-type {\n",
       "        vertical-align: middle;\n",
       "    }\n",
       "\n",
       "    .dataframe tbody tr th {\n",
       "        vertical-align: top;\n",
       "    }\n",
       "\n",
       "    .dataframe thead th {\n",
       "        text-align: right;\n",
       "    }\n",
       "</style>\n",
       "<table border=\"1\" class=\"dataframe\">\n",
       "  <thead>\n",
       "    <tr style=\"text-align: right;\">\n",
       "      <th></th>\n",
       "      <th>Prom_Ingreso_Hora</th>\n",
       "      <th>Prom_Egreso_Hora</th>\n",
       "      <th>Humedad</th>\n",
       "      <th>Temperatura</th>\n",
       "      <th>Nivel_Cisterna</th>\n",
       "    </tr>\n",
       "  </thead>\n",
       "  <tbody>\n",
       "    <tr>\n",
       "      <th>Prom_Ingreso_Hora</th>\n",
       "      <td>1.000000</td>\n",
       "      <td>0.308524</td>\n",
       "      <td>-0.220344</td>\n",
       "      <td>0.104002</td>\n",
       "      <td>-0.205151</td>\n",
       "    </tr>\n",
       "    <tr>\n",
       "      <th>Prom_Egreso_Hora</th>\n",
       "      <td>0.308524</td>\n",
       "      <td>1.000000</td>\n",
       "      <td>-0.313302</td>\n",
       "      <td>0.130745</td>\n",
       "      <td>-0.222337</td>\n",
       "    </tr>\n",
       "    <tr>\n",
       "      <th>Humedad</th>\n",
       "      <td>-0.220344</td>\n",
       "      <td>-0.313302</td>\n",
       "      <td>1.000000</td>\n",
       "      <td>-0.405984</td>\n",
       "      <td>0.391426</td>\n",
       "    </tr>\n",
       "    <tr>\n",
       "      <th>Temperatura</th>\n",
       "      <td>0.104002</td>\n",
       "      <td>0.130745</td>\n",
       "      <td>-0.405984</td>\n",
       "      <td>1.000000</td>\n",
       "      <td>-0.124657</td>\n",
       "    </tr>\n",
       "    <tr>\n",
       "      <th>Nivel_Cisterna</th>\n",
       "      <td>-0.205151</td>\n",
       "      <td>-0.222337</td>\n",
       "      <td>0.391426</td>\n",
       "      <td>-0.124657</td>\n",
       "      <td>1.000000</td>\n",
       "    </tr>\n",
       "  </tbody>\n",
       "</table>\n",
       "</div>"
      ],
      "text/plain": [
       "                   Prom_Ingreso_Hora  Prom_Egreso_Hora   Humedad  Temperatura  \\\n",
       "Prom_Ingreso_Hora           1.000000          0.308524 -0.220344     0.104002   \n",
       "Prom_Egreso_Hora            0.308524          1.000000 -0.313302     0.130745   \n",
       "Humedad                    -0.220344         -0.313302  1.000000    -0.405984   \n",
       "Temperatura                 0.104002          0.130745 -0.405984     1.000000   \n",
       "Nivel_Cisterna             -0.205151         -0.222337  0.391426    -0.124657   \n",
       "\n",
       "                   Nivel_Cisterna  \n",
       "Prom_Ingreso_Hora       -0.205151  \n",
       "Prom_Egreso_Hora        -0.222337  \n",
       "Humedad                  0.391426  \n",
       "Temperatura             -0.124657  \n",
       "Nivel_Cisterna           1.000000  "
      ]
     },
     "execution_count": 13,
     "metadata": {},
     "output_type": "execute_result"
    }
   ],
   "source": [
    "corr"
   ]
  },
  {
   "cell_type": "code",
   "execution_count": null,
   "id": "fe855c14",
   "metadata": {},
   "outputs": [
    {
     "data": {
      "image/png": "[encoded data removed]",
      "text/plain": [
       "<Figure size 360x360 with 1 Axes>"
      ]
     },
     "metadata": {
      "needs_background": "light"
     },
     "output_type": "display_data"
    }
   ],
   "source": [
    "sbn.displot(train_df['Nivel_Cisterna']);"
   ]
  },
  {
   "cell_type": "code",
   "execution_count": null,
   "id": "0b98d87a",
   "metadata": {},
   "outputs": [
    {
     "name": "stdout",
     "output_type": "stream",
     "text": [
      "4131.0\n",
      "humedad max 99.9\n",
      "humedad min 14.8\n",
      "Temperatura max 39.8\n",
      "-->           Fecha Ingreso_m3/h Egreso_m3/h  Prom_Ingreso_Hora  Prom_Egreso_Hora  \\\n",
      "377 2022-01-13       137,27      130,28             3292.0            3116.0   \n",
      "\n",
      "     Humedad  Temperatura  Nivel_Cisterna  \n",
      "377     14.8         39.8          541.28  \n",
      "Temperatura min 8.8\n"
     ]
    }
   ],
   "source": [
    "#sbn.displot(train_df['Prom_Egreso_Hora']);\n",
    "\n",
    "print(train_df['Prom_Egreso_Hora'].max())\n",
    "print(\"humedad max\", train_df['Humedad'].max())\n",
    "print(\"humedad min\", train_df['Humedad'].min())\n",
    "id_max = train_df['Temperatura'].idxmax()\n",
    "print(\"Temperatura max\", train_df['Temperatura'].max())\n",
    "print(\"--> \", train_df.get(train_df.index == id_max))\n",
    "print(\"Temperatura min\", train_df['Temperatura'].min())"
   ]
  },
  {
   "cell_type": "code",
   "execution_count": null,
   "id": "bdedcec2",
   "metadata": {},
   "outputs": [
    {
     "data": {
      "image/png": "[encoded data removed]",
      "text/plain": [
       "<Figure size 432x288 with 1 Axes>"
      ]
     },
     "metadata": {
      "needs_background": "light"
     },
     "output_type": "display_data"
    }
   ],
   "source": [
    "fig, ax = plt.subplots(1, 1, figsize=(6,4))\n",
    "ax.scatter(x=train_df.Nivel_Cisterna, y=train_df.Humedad, alpha= 0.8)\n",
    "ax.set_xlabel('Nivel cisterna')\n",
    "ax.set_ylabel('humedad');"
   ]
  },
  {
   "cell_type": "code",
   "execution_count": null,
   "id": "8ae78aed",
   "metadata": {},
   "outputs": [
    {
     "data": {
      "image/png": "[encoded data removed]",
      "text/plain": [
       "<Figure size 432x288 with 1 Axes>"
      ]
     },
     "metadata": {
      "needs_background": "light"
     },
     "output_type": "display_data"
    }
   ],
   "source": [
    "fig, ax = plt.subplots(1, 1, figsize=(6,4))\n",
    "ax.scatter(x=train_df.Prom_Egreso_Hora, y=train_df.Humedad, alpha= 0.8)\n",
    "ax.set_xlabel('Nivel Prom_Egreso_Hora')\n",
    "ax.set_ylabel('humedad');"
   ]
  },
  {
   "cell_type": "code",
   "execution_count": null,
   "id": "cda715b0",
   "metadata": {},
   "outputs": [
    {
     "data": {
      "text/html": [
       "<div>\n",
       "<style scoped>\n",
       "    .dataframe tbody tr th:only-of-type {\n",
       "        vertical-align: middle;\n",
       "    }\n",
       "\n",
       "    .dataframe tbody tr th {\n",
       "        vertical-align: top;\n",
       "    }\n",
       "\n",
       "    .dataframe thead th {\n",
       "        text-align: right;\n",
       "    }\n",
       "</style>\n",
       "<table border=\"1\" class=\"dataframe\">\n",
       "  <thead>\n",
       "    <tr style=\"text-align: right;\">\n",
       "      <th></th>\n",
       "      <th>Fecha</th>\n",
       "      <th>Ingreso_m3/h</th>\n",
       "      <th>Egreso_m3/h</th>\n",
       "      <th>Prom_Ingreso_Hora</th>\n",
       "      <th>Prom_Egreso_Hora</th>\n",
       "      <th>Humedad</th>\n",
       "      <th>Temperatura</th>\n",
       "      <th>Nivel_Cisterna</th>\n",
       "      <th>periodo_y</th>\n",
       "      <th>periodo_m</th>\n",
       "      <th>periodo</th>\n",
       "    </tr>\n",
       "  </thead>\n",
       "  <tbody>\n",
       "    <tr>\n",
       "      <th>0</th>\n",
       "      <td>2021-01-01</td>\n",
       "      <td>137,64</td>\n",
       "      <td>127,94</td>\n",
       "      <td>3303.0</td>\n",
       "      <td>3068.0</td>\n",
       "      <td>34.8</td>\n",
       "      <td>29.6</td>\n",
       "      <td>1456.18</td>\n",
       "      <td>2021</td>\n",
       "      <td>1</td>\n",
       "      <td>2021/1</td>\n",
       "    </tr>\n",
       "    <tr>\n",
       "      <th>1</th>\n",
       "      <td>2021-01-02</td>\n",
       "      <td>126,64</td>\n",
       "      <td>155,17</td>\n",
       "      <td>3039.0</td>\n",
       "      <td>3725.0</td>\n",
       "      <td>33.6</td>\n",
       "      <td>31.7</td>\n",
       "      <td>1369.90</td>\n",
       "      <td>2021</td>\n",
       "      <td>1</td>\n",
       "      <td>2021/1</td>\n",
       "    </tr>\n",
       "    <tr>\n",
       "      <th>2</th>\n",
       "      <td>2021-01-03</td>\n",
       "      <td>130,55</td>\n",
       "      <td>125,14</td>\n",
       "      <td>3133.0</td>\n",
       "      <td>3004.0</td>\n",
       "      <td>40.3</td>\n",
       "      <td>29.4</td>\n",
       "      <td>1408.93</td>\n",
       "      <td>2021</td>\n",
       "      <td>1</td>\n",
       "      <td>2021/1</td>\n",
       "    </tr>\n",
       "    <tr>\n",
       "      <th>3</th>\n",
       "      <td>2021-01-04</td>\n",
       "      <td>134,23</td>\n",
       "      <td>141,42</td>\n",
       "      <td>3221.0</td>\n",
       "      <td>3391.0</td>\n",
       "      <td>41.4</td>\n",
       "      <td>31.9</td>\n",
       "      <td>1392.13</td>\n",
       "      <td>2021</td>\n",
       "      <td>1</td>\n",
       "      <td>2021/1</td>\n",
       "    </tr>\n",
       "    <tr>\n",
       "      <th>4</th>\n",
       "      <td>2021-01-05</td>\n",
       "      <td>137,88</td>\n",
       "      <td>134,14</td>\n",
       "      <td>3309.0</td>\n",
       "      <td>3219.0</td>\n",
       "      <td>50.1</td>\n",
       "      <td>29.8</td>\n",
       "      <td>1370.95</td>\n",
       "      <td>2021</td>\n",
       "      <td>1</td>\n",
       "      <td>2021/1</td>\n",
       "    </tr>\n",
       "    <tr>\n",
       "      <th>...</th>\n",
       "      <td>...</td>\n",
       "      <td>...</td>\n",
       "      <td>...</td>\n",
       "      <td>...</td>\n",
       "      <td>...</td>\n",
       "      <td>...</td>\n",
       "      <td>...</td>\n",
       "      <td>...</td>\n",
       "      <td>...</td>\n",
       "      <td>...</td>\n",
       "      <td>...</td>\n",
       "    </tr>\n",
       "    <tr>\n",
       "      <th>220</th>\n",
       "      <td>2021-08-09</td>\n",
       "      <td>131,53</td>\n",
       "      <td>118,56</td>\n",
       "      <td>3145.0</td>\n",
       "      <td>2837.0</td>\n",
       "      <td>82.8</td>\n",
       "      <td>11.0</td>\n",
       "      <td>1575.70</td>\n",
       "      <td>2021</td>\n",
       "      <td>8</td>\n",
       "      <td>2021/8</td>\n",
       "    </tr>\n",
       "    <tr>\n",
       "      <th>221</th>\n",
       "      <td>2021-08-10</td>\n",
       "      <td>113,12</td>\n",
       "      <td>133,3</td>\n",
       "      <td>2706.0</td>\n",
       "      <td>3192.0</td>\n",
       "      <td>54.6</td>\n",
       "      <td>11.1</td>\n",
       "      <td>1337.70</td>\n",
       "      <td>2021</td>\n",
       "      <td>8</td>\n",
       "      <td>2021/8</td>\n",
       "    </tr>\n",
       "    <tr>\n",
       "      <th>222</th>\n",
       "      <td>2021-08-11</td>\n",
       "      <td>133,89</td>\n",
       "      <td>131,34</td>\n",
       "      <td>3213.0</td>\n",
       "      <td>3144.0</td>\n",
       "      <td>56.2</td>\n",
       "      <td>12.5</td>\n",
       "      <td>1173.20</td>\n",
       "      <td>2021</td>\n",
       "      <td>8</td>\n",
       "      <td>2021/8</td>\n",
       "    </tr>\n",
       "    <tr>\n",
       "      <th>223</th>\n",
       "      <td>2021-08-12</td>\n",
       "      <td>132,32</td>\n",
       "      <td>131,64</td>\n",
       "      <td>3176.0</td>\n",
       "      <td>3151.0</td>\n",
       "      <td>51.4</td>\n",
       "      <td>13.2</td>\n",
       "      <td>1229.55</td>\n",
       "      <td>2021</td>\n",
       "      <td>8</td>\n",
       "      <td>2021/8</td>\n",
       "    </tr>\n",
       "    <tr>\n",
       "      <th>224</th>\n",
       "      <td>2021-08-13</td>\n",
       "      <td>133,63</td>\n",
       "      <td>137,03</td>\n",
       "      <td>3198.0</td>\n",
       "      <td>3281.0</td>\n",
       "      <td>54.6</td>\n",
       "      <td>13.7</td>\n",
       "      <td>1157.98</td>\n",
       "      <td>2021</td>\n",
       "      <td>8</td>\n",
       "      <td>2021/8</td>\n",
       "    </tr>\n",
       "  </tbody>\n",
       "</table>\n",
       "<p>225 rows × 11 columns</p>\n",
       "</div>"
      ],
      "text/plain": [
       "         Fecha Ingreso_m3/h Egreso_m3/h  Prom_Ingreso_Hora  Prom_Egreso_Hora  \\\n",
       "0   2021-01-01       137,64      127,94             3303.0            3068.0   \n",
       "1   2021-01-02       126,64      155,17             3039.0            3725.0   \n",
       "2   2021-01-03       130,55      125,14             3133.0            3004.0   \n",
       "3   2021-01-04       134,23      141,42             3221.0            3391.0   \n",
       "4   2021-01-05       137,88      134,14             3309.0            3219.0   \n",
       "..         ...          ...         ...                ...               ...   \n",
       "220 2021-08-09       131,53      118,56             3145.0            2837.0   \n",
       "221 2021-08-10       113,12       133,3             2706.0            3192.0   \n",
       "222 2021-08-11       133,89      131,34             3213.0            3144.0   \n",
       "223 2021-08-12       132,32      131,64             3176.0            3151.0   \n",
       "224 2021-08-13       133,63      137,03             3198.0            3281.0   \n",
       "\n",
       "     Humedad  Temperatura  Nivel_Cisterna periodo_y periodo_m periodo  \n",
       "0       34.8         29.6         1456.18      2021         1  2021/1  \n",
       "1       33.6         31.7         1369.90      2021         1  2021/1  \n",
       "2       40.3         29.4         1408.93      2021         1  2021/1  \n",
       "3       41.4         31.9         1392.13      2021         1  2021/1  \n",
       "4       50.1         29.8         1370.95      2021         1  2021/1  \n",
       "..       ...          ...             ...       ...       ...     ...  \n",
       "220     82.8         11.0         1575.70      2021         8  2021/8  \n",
       "221     54.6         11.1         1337.70      2021         8  2021/8  \n",
       "222     56.2         12.5         1173.20      2021         8  2021/8  \n",
       "223     51.4         13.2         1229.55      2021         8  2021/8  \n",
       "224     54.6         13.7         1157.98      2021         8  2021/8  \n",
       "\n",
       "[225 rows x 11 columns]"
      ]
     },
     "execution_count": 18,
     "metadata": {},
     "output_type": "execute_result"
    }
   ],
   "source": [
    "train_df['periodo_y'] = pd.DatetimeIndex(train_df['Fecha']).year.astype(str)\n",
    "train_df['periodo_m'] = pd.DatetimeIndex(train_df['Fecha']).month.astype(str)\n",
    "train_df['periodo'] = train_df.periodo_y.str.cat('/'+train_df.periodo_m)\n",
    "\n",
    "train_df.head(225)\n"
   ]
  },
  {
   "cell_type": "code",
   "execution_count": null,
   "id": "7c38fc9a",
   "metadata": {},
   "outputs": [],
   "source": [
    "d = train_df.groupby(pd.Grouper(key='Fecha', axis=0, freq='M')).mean()\n",
    "#train_df.groupby('Fecha')['Prom_Egreso_Hora'].mean()\n",
    "#train_df.head(30)\n",
    "#d.head(30)"
   ]
  },
  {
   "cell_type": "code",
   "execution_count": null,
   "id": "5fab82bc",
   "metadata": {},
   "outputs": [
    {
     "data": {
      "image/png": "[encoded data removed]",
      "text/plain": [
       "<Figure size 432x288 with 1 Axes>"
      ]
     },
     "metadata": {
      "needs_background": "light"
     },
     "output_type": "display_data"
    }
   ],
   "source": [
    "#sbn.barplot(x='periodo', y='Nivel_Cisterna', data=train_df, palette='Blues_d');\n",
    "# get the keys of the groupby\n",
    "\n",
    "#plt.figure(figsize=(14,6))\n",
    "#plt.bar(train_df.Fecha, train_df.Prom_Egreso_Hora, color='blue')\n",
    "d.plot(kind='line', title=\"Agrupado cantidad por meses\").legend(bbox_to_anchor= (1.02, 1));"
   ]
  },
  {
   "cell_type": "code",
   "execution_count": null,
   "id": "1904475b",
   "metadata": {},
   "outputs": [],
   "source": [
    "\n",
    "\n",
    "\n",
    "\"\"\"plt.plot(date_np, value_np)\n",
    "plt.plot(dates.num2date(date_num_smooth), value_np_smooth)\n",
    "plt.show()\"\"\""
   ]
  }
 ],
 "metadata": {
  "interpreter": {
   "hash": "50cad90f2f273938ceabd83189106b19f0fe603f9ecc8bddf15d51c3f9654c30"
  },
  "kernelspec": {
   "display_name": "Python 3.9.6 64-bit",
   "language": "python",
   "name": "python3"
  },
  "language_info": {
   "codemirror_mode": {
    "name": "ipython",
    "version": 3
   },
   "file_extension": ".py",
   "mimetype": "text/x-python",
   "name": "python",
   "nbconvert_exporter": "python",
   "pygments_lexer": "ipython3",
   "version": "3.9.6"
  }
 },
 "nbformat": 4,
 "nbformat_minor": 5
}
